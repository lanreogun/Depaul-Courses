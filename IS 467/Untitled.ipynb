{
 "cells": [
  {
   "cell_type": "markdown",
   "metadata": {},
   "source": [
    "- In your own words, define data mining. Describe the steps involved in data mining\n",
    "   \n",
    "   Data mining is the process of extracting and manipulating various forms of datasets \n",
    "   \n",
    "   The steps consit of the following\n",
    "   \n",
    "       - Cleaning (delete/ filter only needed metrics)\n",
    "       \n",
    "       - Integrate (Combine and create uniformity in the retrieved datasets)\n",
    "       \n",
    "       - Filter (Select releted metrics based on the project objective)\n",
    "       \n",
    "       - Transformation (Wrangle and sort consplidate)\n",
    "       \n",
    "       - Review Patterns for insights\n",
    "       \n",
    "       \n",
    "- Explain the difference between discrimination and classification, characterization and clustering, and classification and regression. Support your answers with clear examples.\n",
    "\n",
    "        - Difference between discrimination and classification: Comparing general features for a population\n",
    "\n",
    "        - Similarities between discrimination and classification: Both measure nominal data types and analyze objects.\n",
    "\n",
    "        - Difference between characterization and clustering: Models or functions to describe or distinguish data classes to model and predict. Summary of general characteristics or features of the target population or sample size.\n",
    "    \n",
    "        - Similarities between characterization and clustering: Grouping of objects or related data to compare against data set values.\n",
    "    \n",
    "        - Difference between classification and regression: classification is the process of finding a set of models at of the population or sample.\n",
    "    \n",
    "        - Regression predicts data that it isn’t available at the time of the analysis this data is often numerical data values.\n",
    "    \n",
    "        - Similarities between classification and regression; both are used to predict possible trends; one object data type the other numerical values.\n",
    "\n",
    "\n"
   ]
  },
  {
   "cell_type": "markdown",
   "metadata": {},
   "source": [
    "- Suppose that the data for analysis includes the feature age. The age values for the\n",
    "data tuples are: 13, 15, 16, 16, 19, 20, 20, 21, 22, 22, 25, 25, 25, 25, 30, 33, 33, 35, 35, 36, 40, 45, 46, 52, 70"
   ]
  },
  {
   "cell_type": "code",
   "execution_count": 4,
   "metadata": {},
   "outputs": [
    {
     "data": {
      "text/plain": [
       "25.0"
      ]
     },
     "execution_count": 4,
     "metadata": {},
     "output_type": "execute_result"
    }
   ],
   "source": [
    "ages = [13, 15, 16, 16, 19, 20, 20, 21, 22, 22, 25, 25, 25, 25, 30, 33, 33, 35, 35, 36, 40, 45, 46, 52, 70]\n",
    "import numpy as np\n",
    "\n",
    "# This is the number that lies in the middle of a list of ordered numbers\n",
    "np.median(ages)"
   ]
  },
  {
   "cell_type": "code",
   "execution_count": 7,
   "metadata": {},
   "outputs": [
    {
     "data": {
      "text/plain": [
       "29.56"
      ]
     },
     "execution_count": 7,
     "metadata": {},
     "output_type": "execute_result"
    }
   ],
   "source": [
    "# This is the average of all the numbers\n",
    "np.mean(ages)"
   ]
  },
  {
   "cell_type": "code",
   "execution_count": 10,
   "metadata": {},
   "outputs": [
    {
     "data": {
      "text/plain": [
       "ModeResult(mode=array([25]), count=array([4]))"
      ]
     },
     "execution_count": 10,
     "metadata": {},
     "output_type": "execute_result"
    }
   ],
   "source": [
    "from scipy import stats\n",
    "# This is the most frequent number in the list\n",
    "stats.mode(ages)"
   ]
  },
  {
   "cell_type": "code",
   "execution_count": 13,
   "metadata": {},
   "outputs": [
    {
     "data": {
      "text/plain": [
       "41.5"
      ]
     },
     "execution_count": 13,
     "metadata": {},
     "output_type": "execute_result"
    }
   ],
   "source": [
    "# Mid Range\n",
    "(min(ages) + max(ages)) / 2"
   ]
  },
  {
   "cell_type": "code",
   "execution_count": 17,
   "metadata": {},
   "outputs": [
    {
     "data": {
      "text/plain": [
       "DescribeResult(nobs=25, minmax=(13, 70), mean=29.56, variance=179.17333333333332, skewness=1.2404417486852026, kurtosis=1.4671174178082689)"
      ]
     },
     "execution_count": 17,
     "metadata": {},
     "output_type": "execute_result"
    }
   ],
   "source": [
    "# Five Number Summary\n",
    "from scipy import stats\n",
    "stats.describe(ages)"
   ]
  },
  {
   "cell_type": "markdown",
   "metadata": {},
   "source": [
    "the sample minimum (smallest observation)\n",
    "\n",
    "the lower quartile or first quartile\n",
    "\n",
    "the median (the middle value)\n",
    "\n",
    "the upper quartile or third quartile\n",
    "\n",
    "the sample maximum (largest observation)"
   ]
  },
  {
   "cell_type": "code",
   "execution_count": 19,
   "metadata": {},
   "outputs": [
    {
     "data": {
      "text/plain": [
       "<Figure size 432x288 with 0 Axes>"
      ]
     },
     "execution_count": 19,
     "metadata": {},
     "output_type": "execute_result"
    },
    {
     "data": {
      "image/png": "[encoded data removed]",
      "text/plain": [
       "<Figure size 432x288 with 1 Axes>"
      ]
     },
     "metadata": {},
     "output_type": "display_data"
    },
    {
     "data": {
      "text/plain": [
       "<Figure size 432x288 with 0 Axes>"
      ]
     },
     "metadata": {},
     "output_type": "display_data"
    }
   ],
   "source": [
    "import matplotlib.pyplot as plt\n",
    "import numpy as np\n",
    "\n",
    "# Box Plot of Ages \n",
    "plt.boxplot(ages)\n",
    "plt.figure()"
   ]
  },
  {
   "cell_type": "markdown",
   "metadata": {},
   "source": [
    "- Briefly outline how to compute the dissimilarity between objects described by the following (include mathematical notation)\n",
    "    - Nominal attributes \n",
    "        - A categorical variable is a generalization of the binary variable in that it can take on more than    two states.\n",
    "\n",
    "        The dissimilarity between two objects i and j can be computed based on the ratio of mismatches:\n",
    "        d(i, j)   =  (p − m)/P\n",
    "where m is the number of matches (i.e., the number of variables for which i and j are in the same state), and p is the total number of variables.\n",
    "Alternatively, we can use a large number of binary variables by creating a new binary variable for each of the M nominal states. For an object with a given state value, the binary variable representing that state is set to 1, while the remaining binary variables are set to 0.\n",
    "        - Asymmetric binary attributes \n",
    "\n",
    "            - In computing the dissimilarity between asymmetric binary variables, the number of negative matches, t, is considered unimportant and thus is ignored in the computation, that is,\n",
    "\n",
    "        - Numeric attributes\n",
    "        \n",
    "        - Use Euclidean distance, Manhattan distance, or supremum distance. Euclidean distance is deﬁned as\n",
    "        d(i, j) = √(xi1 − xj1)2 + (xi2 − xj2)2 + · · · + (xin − xjn)2\n",
    "\n",
    "where i = (xi1, xi2, . . . , xin), and j = (xj1, xj2, . . . , xjn), are two n-dimensional data objects.\n",
    "The Manhattan (or city block) distance, is deﬁned as\n",
    "d(i, j) = |xi1 − xj1| + |xi2 − xj2| + · · · + |xin − xjn|\n",
    "\n",
    "\n",
    "(d)\tTerm-frequency vectors\n",
    "To measure the distance between complex objects represented by vectors, it is often easier to abandon traditional metric distance computation and introduce a nonmetric similarity function  For example, the similarity between two vectors, x and y, can be deﬁned as a cosine measure, as follows:\n",
    "\n",
    " \n",
    "\n",
    "s(x, y) = xt · y\n",
    "||x||||y||\n",
    "\n",
    "\n",
    "where xt is a transposition of vector x, ||x|| is the Euclidean norm of vector x,1 ||y|| is the Euclidean norm of vector y, and s is essentially the cosine of the angle between vectors x and y.\n",
    "\n",
    "\n"
   ]
  },
  {
   "cell_type": "code",
   "execution_count": null,
   "metadata": {},
   "outputs": [],
   "source": []
  }
 ],
 "metadata": {
  "kernelspec": {
   "display_name": "Python 3",
   "language": "python",
   "name": "python3"
  },
  "language_info": {
   "codemirror_mode": {
    "name": "ipython",
    "version": 3
   },
   "file_extension": ".py",
   "mimetype": "text/x-python",
   "name": "python",
   "nbconvert_exporter": "python",
   "pygments_lexer": "ipython3",
   "version": "3.6.5"
  }
 },
 "nbformat": 4,
 "nbformat_minor": 2
}
