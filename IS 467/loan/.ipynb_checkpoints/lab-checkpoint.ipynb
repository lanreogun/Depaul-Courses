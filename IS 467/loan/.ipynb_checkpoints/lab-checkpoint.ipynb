{
 "cells": [
  {
   "cell_type": "code",
   "execution_count": null,
   "metadata": {
    "collapsed": true
   },
   "outputs": [],
   "source": [
    "## Import warnings. Supress warnings (for  matplotlib)\n",
    "import warnings\n",
    "warnings.filterwarnings(\"ignore\")"
   ]
  },
  {
   "cell_type": "code",
   "execution_count": null,
   "metadata": {
    "collapsed": false
   },
   "outputs": [],
   "source": [
    "## Import analysis modules\n",
    "import pandas as p\n",
    "from pandas.tools.plotting import scatter_matrix\n",
    "from sklearn.preprocessing import Imputer\n",
    "\n",
    "## Import visualization modules\n",
    "import matplotlib.pyplot as plt\n",
    "import matplotlib.mlab as mlab"
   ]
  },
  {
   "cell_type": "code",
   "execution_count": null,
   "metadata": {
    "collapsed": false
   },
   "outputs": [],
   "source": [
    "## Read in file\n",
    "data = p.read_csv('F:\\\\DePaul\\\\IS467 - Winter 2016\\\\Week3\\\\loan.csv',delimiter='~}',na_values='nan')"
   ]
  },
  {
   "cell_type": "code",
   "execution_count": null,
   "metadata": {
    "collapsed": false
   },
   "outputs": [],
   "source": [
    "## Basic information about the data \n",
    "data.info()"
   ]
  },
  {
   "cell_type": "code",
   "execution_count": null,
   "metadata": {
    "collapsed": false
   },
   "outputs": [],
   "source": [
    "## To view a small sample of a Series or DataFrame object, use .head() and .tail() methods\n",
    "data.head()"
   ]
  },
  {
   "cell_type": "code",
   "execution_count": null,
   "metadata": {
    "collapsed": false
   },
   "outputs": [],
   "source": [
    "## To view a small sample of a Series or DataFrame object, use .head() and .tail() methods\n",
    "data.tail(3)"
   ]
  },
  {
   "cell_type": "code",
   "execution_count": null,
   "metadata": {
    "collapsed": false
   },
   "outputs": [],
   "source": [
    "## Get feature (column) names\n",
    "data.columns"
   ]
  },
  {
   "cell_type": "code",
   "execution_count": null,
   "metadata": {
    "collapsed": false
   },
   "outputs": [],
   "source": [
    "## Get instances (rows) in multidimensional array\n",
    "data.values"
   ]
  },
  {
   "cell_type": "code",
   "execution_count": null,
   "metadata": {
    "collapsed": false
   },
   "outputs": [],
   "source": [
    "## Indexing and selecting data w/ .loc position (primarily label based; useful w/ index labels)\n",
    "data.loc[0]"
   ]
  },
  {
   "cell_type": "code",
   "execution_count": null,
   "metadata": {
    "collapsed": false
   },
   "outputs": [],
   "source": [
    "## Indexing and selecting data w/ .loc position (primarily label based)\n",
    "data.loc[0,['id','member_id']]"
   ]
  },
  {
   "cell_type": "code",
   "execution_count": null,
   "metadata": {
    "collapsed": false
   },
   "outputs": [],
   "source": [
    "## Indexing and selecting data w/ .loc position (primarily label based)\n",
    "data.loc[0:2,['id','member_id']]"
   ]
  },
  {
   "cell_type": "code",
   "execution_count": null,
   "metadata": {
    "collapsed": false
   },
   "outputs": [],
   "source": [
    "## Indexing and selecting data w/ .iloc position (primarily integer / position based)\n",
    "data.iloc[0]"
   ]
  },
  {
   "cell_type": "code",
   "execution_count": null,
   "metadata": {
    "collapsed": false
   },
   "outputs": [],
   "source": [
    "## Indexing and selecting data w/ .iloc position (primarily integer / position based)\n",
    "data.iloc[0:2,0:3]"
   ]
  },
  {
   "cell_type": "code",
   "execution_count": null,
   "metadata": {
    "collapsed": false
   },
   "outputs": [],
   "source": [
    "## Indexing and selecting data w/ \"[]\" aka __getitem__ (useful for selecting lower-dimension slices)\n",
    "data['loan_amnt'][0:5]"
   ]
  },
  {
   "cell_type": "code",
   "execution_count": null,
   "metadata": {
    "collapsed": false
   },
   "outputs": [],
   "source": [
    "## Indexing and selecting data w/ \"[]\" aka __getitem__ (useful for selecting lower-dimension slices)\n",
    "data[['member_id','loan_amnt']][0:5]"
   ]
  },
  {
   "cell_type": "code",
   "execution_count": null,
   "metadata": {
    "collapsed": false
   },
   "outputs": [],
   "source": [
    "## Indexing and selecting data w/ attributes\n",
    "data.member_id[0:5]"
   ]
  },
  {
   "cell_type": "code",
   "execution_count": null,
   "metadata": {
    "collapsed": false
   },
   "outputs": [],
   "source": [
    "## More advanced Indexing and selecting \n",
    "data[(data['loan_amnt']==5000)]"
   ]
  },
  {
   "cell_type": "code",
   "execution_count": null,
   "metadata": {
    "collapsed": false
   },
   "outputs": [],
   "source": [
    "## More advanced Indexing and selecting \n",
    "data[(data['loan_amnt']<5000) & (data['grade']=='B')]"
   ]
  },
  {
   "cell_type": "code",
   "execution_count": null,
   "metadata": {
    "collapsed": false
   },
   "outputs": [],
   "source": [
    "## More advanced Indexing and selecting \n",
    "data.query(\"(loan_amnt < 5000) & (grade == 'B')\")"
   ]
  },
  {
   "cell_type": "code",
   "execution_count": null,
   "metadata": {
    "collapsed": false
   },
   "outputs": [],
   "source": [
    "## More advanced Indexing and Selecting\n",
    "data[data['loan_amnt'].isin([4500,5000])]"
   ]
  },
  {
   "cell_type": "code",
   "execution_count": null,
   "metadata": {
    "collapsed": false
   },
   "outputs": [],
   "source": [
    "## Selecting random samples w/ replacement\n",
    "data.sample(n=3,replace=True,random_state=2)\n"
   ]
  },
  {
   "cell_type": "code",
   "execution_count": null,
   "metadata": {
    "collapsed": false
   },
   "outputs": [],
   "source": [
    "## Count of instances and features\n",
    "rows, columns = data.shape\n",
    "print data.shape"
   ]
  },
  {
   "cell_type": "code",
   "execution_count": null,
   "metadata": {
    "collapsed": false
   },
   "outputs": [],
   "source": [
    "## Get basic statistics for continuous features\n",
    "numeric = data.describe(include=['number']).T.reset_index()\n",
    "numeric.rename(columns={'index':'feature'},inplace=True)\n",
    "numeric.insert(1,'missing',(rows - numeric['count'])/ float(rows))\n",
    "numeric[0:5]"
   ]
  },
  {
   "cell_type": "code",
   "execution_count": null,
   "metadata": {
    "collapsed": false
   },
   "outputs": [],
   "source": [
    "## Examine features with count missing > .60\n",
    "numeric[numeric['missing']>.60][0:5]"
   ]
  },
  {
   "cell_type": "code",
   "execution_count": null,
   "metadata": {
    "collapsed": false
   },
   "outputs": [],
   "source": [
    "## Examine features with std == 0 \n",
    "numeric[numeric['std']==0]"
   ]
  },
  {
   "cell_type": "code",
   "execution_count": null,
   "metadata": {
    "collapsed": false
   },
   "outputs": [],
   "source": [
    "## How many features can we eliminate?\n",
    "drop = numeric[(numeric['missing']==1) | (numeric['std']==0)]\n",
    "drop"
   ]
  },
  {
   "cell_type": "code",
   "execution_count": null,
   "metadata": {
    "collapsed": false
   },
   "outputs": [],
   "source": [
    "## Drop the unhelpful features from the base and numeric table\n",
    "data = data.drop(drop['feature'],axis=1)\n",
    "numeric = numeric[~numeric['feature'].isin(drop['feature'])]"
   ]
  },
  {
   "cell_type": "code",
   "execution_count": null,
   "metadata": {
    "collapsed": false
   },
   "outputs": [],
   "source": [
    "## Get basic statistics for discrete features\n",
    "discrete = data.describe(include=['object']).T.reset_index()\n",
    "discrete.rename(columns={'index':'feature'},inplace=True)\n",
    "discrete.insert(1,'missing',(rows - discrete['count'])/ float(rows))\n",
    "discrete[0:5]"
   ]
  },
  {
   "cell_type": "code",
   "execution_count": null,
   "metadata": {
    "collapsed": false
   },
   "outputs": [],
   "source": [
    "## Examine features with frequency == rows\n",
    "discrete[discrete['freq']==rows]"
   ]
  },
  {
   "cell_type": "code",
   "execution_count": null,
   "metadata": {
    "collapsed": false
   },
   "outputs": [],
   "source": [
    "## Examine features with missing >.60\n",
    "discrete[discrete['missing']>.60]"
   ]
  },
  {
   "cell_type": "code",
   "execution_count": null,
   "metadata": {
    "collapsed": false
   },
   "outputs": [],
   "source": [
    "## How many features can we eliminate?\n",
    "ddrop = discrete[(discrete['missing']>.6) | (discrete['unique']==1)]\n",
    "ddrop"
   ]
  },
  {
   "cell_type": "code",
   "execution_count": null,
   "metadata": {
    "collapsed": true
   },
   "outputs": [],
   "source": [
    "## Drop unhelpful features from the base table\n",
    "data = data.drop(ddrop['feature'],axis=1)\n",
    "discrete = discrete[~discrete['feature'].isin(ddrop['feature'])]"
   ]
  },
  {
   "cell_type": "code",
   "execution_count": null,
   "metadata": {
    "collapsed": false
   },
   "outputs": [],
   "source": [
    "## How many columns do we have left?\n",
    "data.shape"
   ]
  },
  {
   "cell_type": "code",
   "execution_count": null,
   "metadata": {
    "collapsed": false
   },
   "outputs": [],
   "source": [
    "data"
   ]
  },
  {
   "cell_type": "code",
   "execution_count": null,
   "metadata": {
    "collapsed": false
   },
   "outputs": [],
   "source": [
    "## Let's see if we have any nulls\n",
    "data.isnull().any()"
   ]
  },
  {
   "cell_type": "code",
   "execution_count": null,
   "metadata": {
    "collapsed": false
   },
   "outputs": [],
   "source": [
    "## Impute missing cases\n",
    "imp = Imputer(missing_values='NaN',strategy='median',axis=0)\n",
    "data['delinq_2yrs'] = imp.fit_transform(data['delinq_2yrs'].reshape(-1,1))"
   ]
  },
  {
   "cell_type": "code",
   "execution_count": null,
   "metadata": {
    "collapsed": false
   },
   "outputs": [],
   "source": [
    "## Standard histograms with pandas\n",
    "data.loc[:,['loan_amnt','installment','dti','delinq_2yrs']].hist()\n",
    "plt.show()"
   ]
  },
  {
   "cell_type": "code",
   "execution_count": null,
   "metadata": {
    "collapsed": false
   },
   "outputs": [],
   "source": [
    "## Iter over a few numeric feature distributions with matplotlib\n",
    "for col in ['loan_amnt','installment','dti','delinq_2yrs']:\n",
    "    row = numeric[numeric['feature']==col]\n",
    "    mu, sig = row['mean'], row['std']\n",
    "    n, bins, patches = plt.hist(data[col],bins=10, normed=1)\n",
    "    y = mlab.normpdf(bins, float(mu), float(sig))\n",
    "    plt.plot(bins, y, 'r--')\n",
    "    plt.xlabel(col)\n",
    "    plt.ylabel('Probability')\n",
    "    plt.title('Histogram of ' + col)\n",
    "    plt.show()"
   ]
  },
  {
   "cell_type": "code",
   "execution_count": null,
   "metadata": {
    "collapsed": false
   },
   "outputs": [],
   "source": [
    "## Standard box plots with pandas\n",
    "data['loan_amnt'].plot.box()\n",
    "plt.show()"
   ]
  },
  {
   "cell_type": "code",
   "execution_count": null,
   "metadata": {
    "collapsed": false
   },
   "outputs": [],
   "source": [
    "## Standard scatter plot with pandas\n",
    "data.plot.scatter(x='loan_amnt',y='funded_amnt')\n",
    "plt.xlim(0,40000)\n",
    "plt.ylim(0,40000)\n",
    "plt.show()"
   ]
  },
  {
   "cell_type": "code",
   "execution_count": null,
   "metadata": {
    "collapsed": false
   },
   "outputs": [],
   "source": [
    "## Let's calculate pearsons' correlation\n",
    "pearson = data.loc[:,numeric['feature'][2:]].corr(method='pearson')"
   ]
  },
  {
   "cell_type": "code",
   "execution_count": null,
   "metadata": {
    "collapsed": false
   },
   "outputs": [],
   "source": [
    "## Plot correlation coefficients\n",
    "plt.matshow(pearson)\n",
    "plt.show()"
   ]
  },
  {
   "cell_type": "code",
   "execution_count": null,
   "metadata": {
    "collapsed": false
   },
   "outputs": [],
   "source": [
    "pearson"
   ]
  },
  {
   "cell_type": "code",
   "execution_count": null,
   "metadata": {
    "collapsed": false
   },
   "outputs": [],
   "source": [
    "## Let's create a scatter plot matrix \n",
    "scatter_matrix(data.loc[:,numeric.loc[2:5,'feature']], alpha=0.2, figsize=(4, 4), diagonal='kde')\n",
    "plt.show()"
   ]
  },
  {
   "cell_type": "code",
   "execution_count": null,
   "metadata": {
    "collapsed": false
   },
   "outputs": [],
   "source": [
    "## Bar chart\n",
    "data['term'].value_counts().plot(kind='bar')\n",
    "plt.show()"
   ]
  },
  {
   "cell_type": "code",
   "execution_count": null,
   "metadata": {
    "collapsed": true
   },
   "outputs": [],
   "source": [
    "## Pie chart\n",
    "data['term'].value_counts().plot(kind='pie')\n",
    "plt.show()"
   ]
  },
  {
   "cell_type": "code",
   "execution_count": null,
   "metadata": {
    "collapsed": false
   },
   "outputs": [],
   "source": [
    "## Let's take a look at a string feature\n",
    "data['term'][0]"
   ]
  },
  {
   "cell_type": "code",
   "execution_count": null,
   "metadata": {
    "collapsed": false
   },
   "outputs": [],
   "source": [
    "## Address by stripping leading space\n",
    "data['term'] = data['term'].str.strip()"
   ]
  },
  {
   "cell_type": "code",
   "execution_count": null,
   "metadata": {
    "collapsed": false
   },
   "outputs": [],
   "source": [
    "## Check if that worked\n",
    "data['term'][0]"
   ]
  },
  {
   "cell_type": "code",
   "execution_count": null,
   "metadata": {
    "collapsed": true
   },
   "outputs": [],
   "source": [
    "## Seperate input features from target feature\n",
    "x = data.drop('loan_status',1)\n",
    "y = data['loan_status']"
   ]
  },
  {
   "cell_type": "code",
   "execution_count": null,
   "metadata": {
    "collapsed": false
   },
   "outputs": [],
   "source": [
    "x[0:5]"
   ]
  },
  {
   "cell_type": "code",
   "execution_count": null,
   "metadata": {
    "collapsed": false
   },
   "outputs": [],
   "source": [
    "y"
   ]
  }
 ],
 "metadata": {
  "kernelspec": {
   "display_name": "Python [Root]",
   "language": "python",
   "name": "Python [Root]"
  },
  "language_info": {
   "codemirror_mode": {
    "name": "ipython",
    "version": 2
   },
   "file_extension": ".py",
   "mimetype": "text/x-python",
   "name": "python",
   "nbconvert_exporter": "python",
   "pygments_lexer": "ipython2",
   "version": "2.7.12"
  }
 },
 "nbformat": 4,
 "nbformat_minor": 0
}
