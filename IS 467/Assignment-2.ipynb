{
 "cells": [
  {
   "cell_type": "code",
   "execution_count": 12,
   "metadata": {},
   "outputs": [],
   "source": [
    "import warnings\n",
    "warnings.filterwarnings(\"ignore\")\n",
    "import pandas as pd\n",
    "import numpy as np\n",
    "from scipy import stats\n",
    "from IPython.display import HTML, display"
   ]
  },
  {
   "cell_type": "markdown",
   "metadata": {},
   "source": [
    "#### 1. Pandas is a module for data mining in Python. We've talked about the Pandas I/O API, data exploration methods, and computational tools. Download the loan data from Lending Club that we used in the lab. Leveraging Pandas, attempt the following: \n",
    "\n",
    "    a. Create a data frame object by importing the dataset. "
   ]
  },
  {
   "cell_type": "code",
   "execution_count": 2,
   "metadata": {},
   "outputs": [
    {
     "data": {
      "text/html": [
       "<div>\n",
       "<style scoped>\n",
       "    .dataframe tbody tr th:only-of-type {\n",
       "        vertical-align: middle;\n",
       "    }\n",
       "\n",
       "    .dataframe tbody tr th {\n",
       "        vertical-align: top;\n",
       "    }\n",
       "\n",
       "    .dataframe thead th {\n",
       "        text-align: right;\n",
       "    }\n",
       "</style>\n",
       "<table border=\"1\" class=\"dataframe\">\n",
       "  <thead>\n",
       "    <tr style=\"text-align: right;\">\n",
       "      <th></th>\n",
       "      <th>id</th>\n",
       "      <th>member_id</th>\n",
       "      <th>loan_amnt</th>\n",
       "      <th>funded_amnt</th>\n",
       "      <th>funded_amnt_inv</th>\n",
       "      <th>term</th>\n",
       "      <th>int_rate</th>\n",
       "      <th>installment</th>\n",
       "      <th>grade</th>\n",
       "      <th>sub_grade</th>\n",
       "      <th>...</th>\n",
       "      <th>num_tl_op_past_12m</th>\n",
       "      <th>pct_tl_nvr_dlq</th>\n",
       "      <th>percent_bc_gt_75</th>\n",
       "      <th>pub_rec_bankruptcies</th>\n",
       "      <th>tax_liens</th>\n",
       "      <th>tot_hi_cred_lim</th>\n",
       "      <th>total_bal_ex_mort</th>\n",
       "      <th>total_bc_limit</th>\n",
       "      <th>total_il_high_credit_limit</th>\n",
       "      <th>Unnamed: 111</th>\n",
       "    </tr>\n",
       "  </thead>\n",
       "  <tbody>\n",
       "    <tr>\n",
       "      <th>0</th>\n",
       "      <td>1077501</td>\n",
       "      <td>1296599</td>\n",
       "      <td>5000</td>\n",
       "      <td>5000</td>\n",
       "      <td>4975.0</td>\n",
       "      <td>36 months</td>\n",
       "      <td>10.65%</td>\n",
       "      <td>162.87</td>\n",
       "      <td>B</td>\n",
       "      <td>B2</td>\n",
       "      <td>...</td>\n",
       "      <td>NaN</td>\n",
       "      <td>NaN</td>\n",
       "      <td>NaN</td>\n",
       "      <td>0.0</td>\n",
       "      <td>0.0</td>\n",
       "      <td>NaN</td>\n",
       "      <td>NaN</td>\n",
       "      <td>NaN</td>\n",
       "      <td>NaN</td>\n",
       "      <td>NaN</td>\n",
       "    </tr>\n",
       "    <tr>\n",
       "      <th>1</th>\n",
       "      <td>1077430</td>\n",
       "      <td>1314167</td>\n",
       "      <td>2500</td>\n",
       "      <td>2500</td>\n",
       "      <td>2500.0</td>\n",
       "      <td>60 months</td>\n",
       "      <td>15.27%</td>\n",
       "      <td>59.83</td>\n",
       "      <td>C</td>\n",
       "      <td>C4</td>\n",
       "      <td>...</td>\n",
       "      <td>NaN</td>\n",
       "      <td>NaN</td>\n",
       "      <td>NaN</td>\n",
       "      <td>0.0</td>\n",
       "      <td>0.0</td>\n",
       "      <td>NaN</td>\n",
       "      <td>NaN</td>\n",
       "      <td>NaN</td>\n",
       "      <td>NaN</td>\n",
       "      <td>NaN</td>\n",
       "    </tr>\n",
       "    <tr>\n",
       "      <th>2</th>\n",
       "      <td>1077175</td>\n",
       "      <td>1313524</td>\n",
       "      <td>2400</td>\n",
       "      <td>2400</td>\n",
       "      <td>2400.0</td>\n",
       "      <td>36 months</td>\n",
       "      <td>15.96%</td>\n",
       "      <td>84.33</td>\n",
       "      <td>C</td>\n",
       "      <td>C5</td>\n",
       "      <td>...</td>\n",
       "      <td>NaN</td>\n",
       "      <td>NaN</td>\n",
       "      <td>NaN</td>\n",
       "      <td>0.0</td>\n",
       "      <td>0.0</td>\n",
       "      <td>NaN</td>\n",
       "      <td>NaN</td>\n",
       "      <td>NaN</td>\n",
       "      <td>NaN</td>\n",
       "      <td>NaN</td>\n",
       "    </tr>\n",
       "    <tr>\n",
       "      <th>3</th>\n",
       "      <td>1076863</td>\n",
       "      <td>1277178</td>\n",
       "      <td>10000</td>\n",
       "      <td>10000</td>\n",
       "      <td>10000.0</td>\n",
       "      <td>36 months</td>\n",
       "      <td>13.49%</td>\n",
       "      <td>339.31</td>\n",
       "      <td>C</td>\n",
       "      <td>C1</td>\n",
       "      <td>...</td>\n",
       "      <td>NaN</td>\n",
       "      <td>NaN</td>\n",
       "      <td>NaN</td>\n",
       "      <td>0.0</td>\n",
       "      <td>0.0</td>\n",
       "      <td>NaN</td>\n",
       "      <td>NaN</td>\n",
       "      <td>NaN</td>\n",
       "      <td>NaN</td>\n",
       "      <td>NaN</td>\n",
       "    </tr>\n",
       "    <tr>\n",
       "      <th>4</th>\n",
       "      <td>1075358</td>\n",
       "      <td>1311748</td>\n",
       "      <td>3000</td>\n",
       "      <td>3000</td>\n",
       "      <td>3000.0</td>\n",
       "      <td>60 months</td>\n",
       "      <td>12.69%</td>\n",
       "      <td>67.79</td>\n",
       "      <td>B</td>\n",
       "      <td>B5</td>\n",
       "      <td>...</td>\n",
       "      <td>NaN</td>\n",
       "      <td>NaN</td>\n",
       "      <td>NaN</td>\n",
       "      <td>0.0</td>\n",
       "      <td>0.0</td>\n",
       "      <td>NaN</td>\n",
       "      <td>NaN</td>\n",
       "      <td>NaN</td>\n",
       "      <td>NaN</td>\n",
       "      <td>NaN</td>\n",
       "    </tr>\n",
       "  </tbody>\n",
       "</table>\n",
       "<p>5 rows × 112 columns</p>\n",
       "</div>"
      ],
      "text/plain": [
       "        id  member_id  loan_amnt  funded_amnt  funded_amnt_inv        term  \\\n",
       "0  1077501    1296599       5000         5000           4975.0   36 months   \n",
       "1  1077430    1314167       2500         2500           2500.0   60 months   \n",
       "2  1077175    1313524       2400         2400           2400.0   36 months   \n",
       "3  1076863    1277178      10000        10000          10000.0   36 months   \n",
       "4  1075358    1311748       3000         3000           3000.0   60 months   \n",
       "\n",
       "  int_rate  installment grade sub_grade     ...      num_tl_op_past_12m  \\\n",
       "0   10.65%       162.87     B        B2     ...                     NaN   \n",
       "1   15.27%        59.83     C        C4     ...                     NaN   \n",
       "2   15.96%        84.33     C        C5     ...                     NaN   \n",
       "3   13.49%       339.31     C        C1     ...                     NaN   \n",
       "4   12.69%        67.79     B        B5     ...                     NaN   \n",
       "\n",
       "  pct_tl_nvr_dlq percent_bc_gt_75  pub_rec_bankruptcies tax_liens  \\\n",
       "0            NaN              NaN                   0.0       0.0   \n",
       "1            NaN              NaN                   0.0       0.0   \n",
       "2            NaN              NaN                   0.0       0.0   \n",
       "3            NaN              NaN                   0.0       0.0   \n",
       "4            NaN              NaN                   0.0       0.0   \n",
       "\n",
       "  tot_hi_cred_lim total_bal_ex_mort total_bc_limit total_il_high_credit_limit  \\\n",
       "0             NaN               NaN            NaN                        NaN   \n",
       "1             NaN               NaN            NaN                        NaN   \n",
       "2             NaN               NaN            NaN                        NaN   \n",
       "3             NaN               NaN            NaN                        NaN   \n",
       "4             NaN               NaN            NaN                        NaN   \n",
       "\n",
       "  Unnamed: 111  \n",
       "0          NaN  \n",
       "1          NaN  \n",
       "2          NaN  \n",
       "3          NaN  \n",
       "4          NaN  \n",
       "\n",
       "[5 rows x 112 columns]"
      ]
     },
     "execution_count": 2,
     "metadata": {},
     "output_type": "execute_result"
    }
   ],
   "source": [
    "# Create a data frame object by importing the dataset. \n",
    "df = pd.read_csv('C:/Users/e059172/OneDrive - DePaul University/Depaul-Courses/IS 467/loan/loan.csv', delimiter='~}',na_values='nan')\n",
    "df.head()"
   ]
  },
  {
   "cell_type": "markdown",
   "metadata": {},
   "source": [
    "    b. How many features exist in the dataset that contain at least one missing case?"
   ]
  },
  {
   "cell_type": "code",
   "execution_count": 3,
   "metadata": {},
   "outputs": [
    {
     "name": "stdout",
     "output_type": "stream",
     "text": [
      "2463406 Features\n"
     ]
    }
   ],
   "source": [
    "# How many features exist in the dataset that contain at least one missing case?\n",
    "print (df.isnull().sum().sum(), 'Features')"
   ]
  },
  {
   "cell_type": "markdown",
   "metadata": {},
   "source": [
    "    c. Using integer-location based indexing, select the third-through-sixth instances together with the features funded_amnt, funded_amnt_inv, and term. "
   ]
  },
  {
   "cell_type": "code",
   "execution_count": 4,
   "metadata": {},
   "outputs": [
    {
     "data": {
      "text/html": [
       "<div>\n",
       "<style scoped>\n",
       "    .dataframe tbody tr th:only-of-type {\n",
       "        vertical-align: middle;\n",
       "    }\n",
       "\n",
       "    .dataframe tbody tr th {\n",
       "        vertical-align: top;\n",
       "    }\n",
       "\n",
       "    .dataframe thead th {\n",
       "        text-align: right;\n",
       "    }\n",
       "</style>\n",
       "<table border=\"1\" class=\"dataframe\">\n",
       "  <thead>\n",
       "    <tr style=\"text-align: right;\">\n",
       "      <th></th>\n",
       "      <th>funded_amnt</th>\n",
       "      <th>funded_amnt_inv</th>\n",
       "      <th>term</th>\n",
       "    </tr>\n",
       "  </thead>\n",
       "  <tbody>\n",
       "    <tr>\n",
       "      <th>2</th>\n",
       "      <td>2400</td>\n",
       "      <td>2400.0</td>\n",
       "      <td>36 months</td>\n",
       "    </tr>\n",
       "    <tr>\n",
       "      <th>3</th>\n",
       "      <td>10000</td>\n",
       "      <td>10000.0</td>\n",
       "      <td>36 months</td>\n",
       "    </tr>\n",
       "    <tr>\n",
       "      <th>4</th>\n",
       "      <td>3000</td>\n",
       "      <td>3000.0</td>\n",
       "      <td>60 months</td>\n",
       "    </tr>\n",
       "  </tbody>\n",
       "</table>\n",
       "</div>"
      ],
      "text/plain": [
       "   funded_amnt  funded_amnt_inv        term\n",
       "2         2400           2400.0   36 months\n",
       "3        10000          10000.0   36 months\n",
       "4         3000           3000.0   60 months"
      ]
     },
     "execution_count": 4,
     "metadata": {},
     "output_type": "execute_result"
    }
   ],
   "source": [
    "# Using integer-location based indexing, select the third-through-sixth instances together with the features \n",
    "# funded_amnt, funded_amnt_inv, and term.  \n",
    "df[['funded_amnt', 'funded_amnt_inv', 'term']].iloc[2:5]"
   ]
  },
  {
   "cell_type": "markdown",
   "metadata": {},
   "source": [
    "    d. For the feature loan_amnt¸ determine the following: count, count missing, mean, standard deviation, minimum, Q1, median, Q3, and maximum. "
   ]
  },
  {
   "cell_type": "code",
   "execution_count": 6,
   "metadata": {},
   "outputs": [
    {
     "name": "stdout",
     "output_type": "stream",
     "text": [
      "42535 Loan Amounts\n",
      "0 Missing Values\n",
      "Mean: 11089.72258140355\n",
      "Standard Deviation: 7410.851274266493\n",
      "Minumum: 500\n",
      "1st Quartile: 1200.0\n",
      "3rd Quartile: 1825.0\n",
      "Maximum: 35000\n"
     ]
    }
   ],
   "source": [
    "loan_amt = df['loan_amnt'].tolist()\n",
    "\n",
    "# count values\n",
    "print (len(df['loan_amnt']), 'Loan Amounts')\n",
    "\n",
    "# count missing\n",
    "print(df['loan_amnt'].isnull().values.sum(), 'Missing Values')\n",
    "\n",
    "# Mean\n",
    "print ('Mean:', np.mean(loan_amt))\n",
    "\n",
    "# standard deviation\n",
    "print ('Standard Deviation:', np.std(loan_amt))\n",
    "\n",
    "# Min\n",
    "print ('Minumum:', np.min(loan_amt))\n",
    "\n",
    "# 1st Quartile\n",
    "print ('1st Quartile:', np.percentile(loan_amt, 1))\n",
    "\n",
    "# 3rd Quartile\n",
    "print ('3rd Quartile:', np.percentile(loan_amt, 3))\n",
    "\n",
    "# 4th Quartile\n",
    "print ('Maximum:', np.max(loan_amt))"
   ]
  },
  {
   "cell_type": "markdown",
   "metadata": {},
   "source": [
    "    e. Create a scatter plot using the features loan_amnt and installment. "
   ]
  },
  {
   "cell_type": "code",
   "execution_count": 7,
   "metadata": {},
   "outputs": [
    {
     "data": {
      "text/html": [
       "<iframe id=\"igraph\" scrolling=\"no\" style=\"border:none;\" seamless=\"seamless\" src=\"https://bida-plotlyp.exelonds.com/~e059172/2221.embed\" height=\"525px\" width=\"100%\"></iframe>"
      ],
      "text/plain": [
       "<plotly.tools.PlotlyDisplay object>"
      ]
     },
     "execution_count": 7,
     "metadata": {},
     "output_type": "execute_result"
    }
   ],
   "source": [
    "import plotly.plotly as py\n",
    "import plotly.graph_objs as pgo\n",
    "\n",
    "\n",
    "\n",
    "# Create a trace\n",
    "trace = pgo.Scattergl(\n",
    "    x = df['installment'],\n",
    "    y = df['loan_amnt'],\n",
    "    mode = 'markers'\n",
    ")\n",
    "\n",
    "data = [trace]\n",
    "\n",
    "py.iplot(data, filename='basic-scatter')"
   ]
  },
  {
   "cell_type": "markdown",
   "metadata": {},
   "source": [
    "    f. Determine the Pearson correlation coefficient for the loan_amnt and funded_amnt. How do you interpret the result, given what you know about the features?"
   ]
  },
  {
   "cell_type": "code",
   "execution_count": 11,
   "metadata": {},
   "outputs": [
    {
     "name": "stdout",
     "output_type": "stream",
     "text": [
      "(0.9308691811558744, 0.0)\n",
      "indicates weak evidence against the null hypothesis and reject the null hypothesis\n"
     ]
    }
   ],
   "source": [
    "a = df['installment'].tolist()\n",
    "b = df['loan_amnt'].tolist()\n",
    "print (stats.pearsonr(a, b))\n",
    "\n",
    "print ('indicates weak evidence against the null hypothesis and reject the null hypothesis')"
   ]
  },
  {
   "cell_type": "markdown",
   "metadata": {},
   "source": [
    "##### 2. Machine Learning (ML) can be defined as computer programs that learn to improve performance at a task through experience. We've talked about a variety of important concepts as they relate to ML. In your own words, please answer the following"
   ]
  },
  {
   "cell_type": "markdown",
   "metadata": {},
   "source": [
    "    a. What is Supervised Learning?\n",
    "    \n",
    "Supervised learning is where you have input variables (x) and an output variable (Y) and you use an algorithm to learn the mapping function from the input to the output.\n",
    "\n",
    "Example. Y = f(X)\n",
    "\n",
    "    b. What is Unsupervised Learning?\n",
    "  \n",
    "Unsupervised learning is where you only have input data (X) and no corresponding output variables.\n",
    "\n",
    "    c. How does Machine Learning differ from Artificial Intelligence?\n",
    "    \n",
    "Artificial Intelligence is the broader concept of computers being able to carry out tasks in a way that we would consider autonomous while Machine Learning is an instance/application of based around the complex decision trees or machines learning by referencing datasets\n",
    "\n",
    "    d. Give one example of Supervised Learning and one example of Unsupervised Learning, and describe why each example belongs to the that particular category of ML. \n",
    "    \n",
    "    Supervised Learning (Training Needed)\n",
    "    Suppose you had a basket and filled it with different kinds of fruits. Your task is to arrange them into groups. \n",
    "    now we have categorized each fruit into groups (training the data) based on characteristics from the groups we can now learn from it and use it to identify new fruits added to the basket\n",
    "    \n",
    "    Un-Supervised Learning (No Training Needed)\n",
    "    Using the same example we dont know any of the different furits in the basket but just arrange them based on physical characteristics. color, size, weight. and use those characteristics to match and identify new items added to the basket\n",
    "\n",
    "#### 3. In your own words, define the following feature selection measures (please include the relevant formula for calculating each measure):\n",
    "\n",
    "    a. Gini Index\n",
    "    \n",
    "        This is a statistical measure of distribution, it calculates the diversity from the sum of squared category probabilities 1/(1−G)\n",
    "    \n",
    "    \n",
    "    b. Gini Split\n",
    "    \n",
    "        ??\n",
    "    \n",
    "    c. Entropy\n",
    "        \n",
    "        Entropy is a measure for (un-)orderedness\n",
    "        \n",
    "        ES =−p⊕⋅log2 p⊕− p⊖⋅log2 p⊖\n",
    "        \n",
    "    d. Gain Split\n",
    "    \n",
    "        ??\n",
    "        \n",
    "    e. Gain Ratio\n",
    "    \n",
    "        modification of the information gain that reduces its bias towards multi-valued attributes"
   ]
  },
  {
   "cell_type": "markdown",
   "metadata": {},
   "source": [
    "#### 4. Consider the following training set for a binary classification problem to predict whether a customer is likely to renew the subscription to a certain magazine based on gender and car type:\n",
    "\n",
    "    a. Create subsamples based on Gender and compute the percentage of Yes and No in each split. Fill the following tables\n",
    "    \n",
    "    | Renew         | Y             | N     |\n",
    "    | ------------- | ------------- | ----- |\n",
    "    | Gender=M      | 60%           | 40%   |\n",
    "    \n",
    "    | Renew         | Y             | N     |\n",
    "    | ------------- | ------------- | ----- |\n",
    "    | Gender=F      | 28%           | 42%   |\n",
    "    \n",
    "    b. Create subsamples based on Car type and compute the percentage of Yes and No in each split. Fill the following tables\n",
    "    \n",
    "    | Renew         | Y             | N     |\n",
    "    | ------------- | ------------- | ----- |\n",
    "    | CarType=F     | 50%           | 50%   |\n",
    "    \n",
    "    | Renew         | Y             | N     |\n",
    "    | ------------- | ------------- | ----- |\n",
    "    | CarType=L     |  10%           | 90%  |\n",
    "    \n",
    "    \n",
    "    | Renew         | Y             | N     |\n",
    "    | ------------- | ------------- | ----- |\n",
    "    | CarType=L     |  100%         | 0%    |\n",
    "    \n",
    "    \n",
    "    c. Which attribute creates the best split in terms of purity of subsamples? There is no need to provide exact values for information gain. Just compare distribution of Y/N.\n",
    "    \n",
    "    CarType=L \n",
    "    \n",
    "    d. Compute the Entropy and Gini Index of “Gender”, “CarType”, and “Renew”.\n",
    "    \n",
    "    ??\n",
    "    \n",
    "    e. Select the “best” splitting attribute based on Gain Split, and build the first branch of the tree. Then use the other attributes to split the subsamples further.\n",
    "    \n",
    "    ??"
   ]
  },
  {
   "cell_type": "code",
   "execution_count": null,
   "metadata": {},
   "outputs": [],
   "source": []
  }
 ],
 "metadata": {
  "kernelspec": {
   "display_name": "Python 3",
   "language": "python",
   "name": "python3"
  },
  "language_info": {
   "codemirror_mode": {
    "name": "ipython",
    "version": 3
   },
   "file_extension": ".py",
   "mimetype": "text/x-python",
   "name": "python",
   "nbconvert_exporter": "python",
   "pygments_lexer": "ipython3",
   "version": "3.6.4"
  }
 },
 "nbformat": 4,
 "nbformat_minor": 2
}
