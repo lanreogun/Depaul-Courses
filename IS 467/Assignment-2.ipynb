{
 "cells": [
  {
   "cell_type": "code",
   "execution_count": 1,
   "metadata": {},
   "outputs": [],
   "source": [
    "import warnings\n",
    "warnings.filterwarnings(\"ignore\")\n",
    "import pandas as pd\n",
    "import numpy as np\n",
    "from scipy import stats\n",
    "from IPython.display import HTML, display"
   ]
  },
  {
   "cell_type": "markdown",
   "metadata": {},
   "source": [
    "#### 1. Pandas is a module for data mining in Python. We've talked about the Pandas I/O API, data exploration methods, and computational tools. Download the loan data from Lending Club that we used in the lab. Leveraging Pandas, attempt the following: \n",
    "\n",
    "    a. Create a data frame object by importing the dataset. "
   ]
  },
  {
   "cell_type": "code",
   "execution_count": 2,
   "metadata": {},
   "outputs": [],
   "source": [
    "# Create a data frame object by importing the dataset. \n",
    "df = pd.read_csv('loan/loan.csv', delimiter='~}',na_values='nan')"
   ]
  },
  {
   "cell_type": "markdown",
   "metadata": {},
   "source": [
    "    b. How many features exist in the dataset that contain at least one missing case?"
   ]
  },
  {
   "cell_type": "code",
   "execution_count": 3,
   "metadata": {},
   "outputs": [
    {
     "name": "stdout",
     "output_type": "stream",
     "text": [
      "2463406 Features\n"
     ]
    }
   ],
   "source": [
    "# How many features exist in the dataset that contain at least one missing case?\n",
    "print (df.isnull().sum().sum(), 'Features')"
   ]
  },
  {
   "cell_type": "markdown",
   "metadata": {},
   "source": [
    "    c. Using integer-location based indexing, select the third-through-sixth instances together with the features funded_amnt, funded_amnt_inv, and term. "
   ]
  },
  {
   "cell_type": "code",
   "execution_count": 4,
   "metadata": {},
   "outputs": [
    {
     "data": {
      "text/html": [
       "<div>\n",
       "<style scoped>\n",
       "    .dataframe tbody tr th:only-of-type {\n",
       "        vertical-align: middle;\n",
       "    }\n",
       "\n",
       "    .dataframe tbody tr th {\n",
       "        vertical-align: top;\n",
       "    }\n",
       "\n",
       "    .dataframe thead th {\n",
       "        text-align: right;\n",
       "    }\n",
       "</style>\n",
       "<table border=\"1\" class=\"dataframe\">\n",
       "  <thead>\n",
       "    <tr style=\"text-align: right;\">\n",
       "      <th></th>\n",
       "      <th>funded_amnt</th>\n",
       "      <th>funded_amnt_inv</th>\n",
       "      <th>term</th>\n",
       "    </tr>\n",
       "  </thead>\n",
       "  <tbody>\n",
       "    <tr>\n",
       "      <th>2</th>\n",
       "      <td>2400</td>\n",
       "      <td>2400.0</td>\n",
       "      <td>36 months</td>\n",
       "    </tr>\n",
       "    <tr>\n",
       "      <th>3</th>\n",
       "      <td>10000</td>\n",
       "      <td>10000.0</td>\n",
       "      <td>36 months</td>\n",
       "    </tr>\n",
       "    <tr>\n",
       "      <th>4</th>\n",
       "      <td>3000</td>\n",
       "      <td>3000.0</td>\n",
       "      <td>60 months</td>\n",
       "    </tr>\n",
       "  </tbody>\n",
       "</table>\n",
       "</div>"
      ],
      "text/plain": [
       "   funded_amnt  funded_amnt_inv        term\n",
       "2         2400           2400.0   36 months\n",
       "3        10000          10000.0   36 months\n",
       "4         3000           3000.0   60 months"
      ]
     },
     "execution_count": 4,
     "metadata": {},
     "output_type": "execute_result"
    }
   ],
   "source": [
    "# Using integer-location based indexing, select the third-through-sixth instances together with the features \n",
    "# funded_amnt, funded_amnt_inv, and term.  \n",
    "df[['funded_amnt', 'funded_amnt_inv', 'term']].iloc[2:5]"
   ]
  },
  {
   "cell_type": "markdown",
   "metadata": {},
   "source": [
    "    d. For the feature loan_amnt¸ determine the following: count, count missing, mean, standard deviation, minimum, Q1, median, Q3, and maximum. "
   ]
  },
  {
   "cell_type": "code",
   "execution_count": 5,
   "metadata": {},
   "outputs": [
    {
     "name": "stdout",
     "output_type": "stream",
     "text": [
      "42535 Loan Amounts\n",
      "0 Missing Values\n",
      "Mean: 11089.72258140355\n",
      "Standard Deviation: 7410.851274266493\n",
      "Minumum: 500\n",
      "1st Quartile: 1200.0\n",
      "3rd Quartile: 1825.0\n",
      "Maximum: 35000\n"
     ]
    }
   ],
   "source": [
    "loan_amt = df['loan_amnt'].tolist()\n",
    "\n",
    "# count values\n",
    "print (len(df['loan_amnt']), 'Loan Amounts')\n",
    "\n",
    "# count missing\n",
    "print(df['loan_amnt'].isnull().values.sum(), 'Missing Values')\n",
    "\n",
    "# Mean\n",
    "print ('Mean:', np.mean(loan_amt))\n",
    "\n",
    "# standard deviation\n",
    "print ('Standard Deviation:', np.std(loan_amt))\n",
    "\n",
    "# Min\n",
    "print ('Minumum:', np.min(loan_amt))\n",
    "\n",
    "# 1st Quartile\n",
    "print ('1st Quartile:', np.percentile(loan_amt, 1))\n",
    "\n",
    "# 3rd Quartile\n",
    "print ('3rd Quartile:', np.percentile(loan_amt, 3))\n",
    "\n",
    "# 4th Quartile\n",
    "print ('Maximum:', np.max(loan_amt))"
   ]
  },
  {
   "cell_type": "markdown",
   "metadata": {},
   "source": [
    "    e. Create a scatter plot using the features loan_amnt and installment. "
   ]
  },
  {
   "cell_type": "code",
   "execution_count": 6,
   "metadata": {},
   "outputs": [
    {
     "data": {
      "text/html": [
       "<iframe id=\"igraph\" scrolling=\"no\" style=\"border:none;\" seamless=\"seamless\" src=\"https://plot.ly/~olusola.ogun/2940.embed\" height=\"525px\" width=\"100%\"></iframe>"
      ],
      "text/plain": [
       "<plotly.tools.PlotlyDisplay object>"
      ]
     },
     "execution_count": 6,
     "metadata": {},
     "output_type": "execute_result"
    }
   ],
   "source": [
    "import plotly.plotly as py\n",
    "import plotly.graph_objs as pgo\n",
    "\n",
    "\n",
    "\n",
    "# Create a trace\n",
    "trace = pgo.Scattergl(\n",
    "    x = df['installment'],\n",
    "    y = df['loan_amnt'],\n",
    "    mode = 'markers'\n",
    ")\n",
    "\n",
    "data = [trace]\n",
    "\n",
    "py.iplot(data, filename='basic-scatter')"
   ]
  },
  {
   "cell_type": "markdown",
   "metadata": {},
   "source": [
    "    f. Determine the Pearson correlation coefficient for the loan_amnt and funded_amnt. How do you interpret the result, given what you know about the features?"
   ]
  },
  {
   "cell_type": "code",
   "execution_count": 7,
   "metadata": {},
   "outputs": [
    {
     "name": "stdout",
     "output_type": "stream",
     "text": [
      "(0.9308691811558744, 0.0)\n",
      "indicates weak evidence against the null hypothesis and reject the null hypothesis\n"
     ]
    }
   ],
   "source": [
    "a = df['installment'].tolist()\n",
    "b = df['loan_amnt'].tolist()\n",
    "print (stats.pearsonr(a, b))\n",
    "print ('indicates weak evidence against the null hypothesis and reject the null hypothesis')"
   ]
  },
  {
   "cell_type": "markdown",
   "metadata": {},
   "source": [
    "##### 2. Machine Learning (ML) can be defined as computer programs that learn to improve performance at a task through experience. We've talked about a variety of important concepts as they relate to ML. In your own words, please answer the following"
   ]
  },
  {
   "cell_type": "markdown",
   "metadata": {},
   "source": [
    "    a. What is Supervised Learning?\n",
    "    \n",
    "Supervised learning is where you have input variables (x) and an output variable (Y) and you use an algorithm to learn the mapping function from the input to the output.\n",
    "\n",
    "Example. Y = f(X)\n",
    "\n",
    "    b. What is Unsupervised Learning?\n",
    "  \n",
    "Unsupervised learning is where you only have input data (X) and no corresponding output variables.\n",
    "\n",
    "    c. How does Machine Learning differ from Artificial Intelligence?\n",
    "    \n",
    "Artificial Intelligence is the broader concept of computers being able to carry out tasks in a way that we would consider autonomous while Machine Learning is an instance/application of based around the complex decision trees or machines learning by referencing datasets\n",
    "\n",
    "    d. Give one example of Supervised Learning and one example of Unsupervised Learning, and describe why each example belongs to the that particular category of ML. \n",
    "    \n",
    "    Supervised Learning (Training Needed)\n",
    "    Suppose you had a basket and filled it with different kinds of fruits. Your task is to arrange them into groups. \n",
    "    now we have categorized each fruit into groups (training the data) based on categorical characteristics from the groups we can now learn from it and use it to identify new fruits added to the basket\n",
    "    \n",
    "    Un-Supervised Learning (No Training Needed)\n",
    "    Using the same example we dont know any of the different furits in the basket but just arrange them based on physical characteristics. color, size, weight. and use those characteristics to match and identify new items added to the basket\n",
    "\n",
    "#### 3. In your own words, define the following feature selection measures (please include the relevant formula for calculating each measure):\n",
    "\n",
    "    a. Gini Index\n",
    "    \n",
    "        This is a statistical measure of distribution, it calculates the diversity from the sum of squared category probabilities 1/(1−G)\n",
    "        \n",
    "![alt text](Screen Shot 2018-06-28 at 10.53.42 PM.png)\n",
    "\n",
    "    b. Gini Split\n",
    "    \n",
    "        ??\n",
    "    \n",
    "    c. Entropy\n",
    "        \n",
    "        Entropy is a measure for (un-)orderedness\n",
    "        \n",
    "![alt text](Screen Shot 2018-06-28 at 10.59.28 PM.png )\n",
    "        \n",
    "        \n",
    "    d. Gain Split\n",
    "    \n",
    "        ??\n",
    "        \n",
    "    e. Gain Ratio\n",
    "    \n",
    "        modification of the information gain that reduces its bias towards multi-valued attributes_\n",
    "        \n",
    "    f. Misclassification Rate\n",
    "    \n",
    "        ??"
   ]
  },
  {
   "cell_type": "markdown",
   "metadata": {},
   "source": [
    "#### 4. Consider the following training set for a binary classification problem to predict whether a customer is likely to renew the subscription to a certain magazine based on gender and car type:\n",
    "\n",
    "    a. Create subsamples based on Gender and compute the percentage of Yes and No in each split. Fill the following tables\n",
    "    \n",
    "    | Renew         | Y             | N     |\n",
    "    | ------------- | ------------- | ----- |\n",
    "    | Gender=M      | 60%           | 40%   |\n",
    "    \n",
    "    | Renew         | Y             | N     |\n",
    "    | ------------- | ------------- | ----- |\n",
    "    | Gender=F      | 28%           | 42%   |\n",
    "    \n",
    "    b. Create subsamples based on Car type and compute the percentage of Yes and No in each split. Fill the following tables\n",
    "    \n",
    "    | Renew         | Y             | N     |\n",
    "    | ------------- | ------------- | ----- |\n",
    "    | CarType=F     | 50%           | 50%   |\n",
    "    \n",
    "    | Renew         | Y             | N     |\n",
    "    | ------------- | ------------- | ----- |\n",
    "    | CarType=L     |  10%           | 90%  |\n",
    "    \n",
    "    \n",
    "    | Renew         | Y             | N     |\n",
    "    | ------------- | ------------- | ----- |\n",
    "    | CarType=L     |  100%         | 0%    |\n",
    "    \n",
    "    \n",
    "    c. Which attribute creates the best split in terms of purity of subsamples? There is no need to provide exact values for information gain. Just compare distribution of Y/N.\n",
    "    \n",
    "    CarType=L \n",
    "    \n",
    "    d. Compute the Entropy and Gini Index of “Gender”, “CarType”, and “Renew”.\n",
    "    \n",
    "    ??\n",
    "    \n",
    "    e. Select the “best” splitting attribute based on Gain Split, and build the first branch of the tree. Then use the other attributes to split the subsamples further.\n",
    "    \n",
    "    ??"
   ]
  },
  {
   "cell_type": "code",
   "execution_count": null,
   "metadata": {},
   "outputs": [],
   "source": []
  }
 ],
 "metadata": {
  "kernelspec": {
   "display_name": "Python 3",
   "language": "python",
   "name": "python3"
  },
  "language_info": {
   "codemirror_mode": {
    "name": "ipython",
    "version": 3
   },
   "file_extension": ".py",
   "mimetype": "text/x-python",
   "name": "python",
   "nbconvert_exporter": "python",
   "pygments_lexer": "ipython3",
   "version": "3.6.5"
  }
 },
 "nbformat": 4,
 "nbformat_minor": 2
}
