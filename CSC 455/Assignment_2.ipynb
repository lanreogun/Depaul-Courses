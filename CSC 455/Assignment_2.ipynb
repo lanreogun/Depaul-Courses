{
 "cells": [
  {
   "cell_type": "code",
   "execution_count": 1,
   "metadata": {},
   "outputs": [],
   "source": [
    "# Olusola Ogun\n",
    "# Assignment #2\n",
    "\n",
    "import pandas as pd\n",
    "import config\n",
    "from tqdm import tqdm_notebook"
   ]
  },
  {
   "cell_type": "code",
   "execution_count": 2,
   "metadata": {},
   "outputs": [
    {
     "data": {
      "application/vnd.jupyter.widget-view+json": {
       "model_id": "0f07a07b84bc4920a82a2c10cde651da",
       "version_major": 2,
       "version_minor": 0
      },
      "text/plain": [
       "HBox(children=(IntProgress(value=0, description='%', max=4), HTML(value='')))"
      ]
     },
     "metadata": {},
     "output_type": "display_data"
    },
    {
     "name": "stdout",
     "output_type": "stream",
     "text": [
      "\n"
     ]
    }
   ],
   "source": [
    "filename = \"ogun_lab2_1.sql\"\n",
    "cursor = config.cursor\n",
    "\n",
    "def sql_update(query):\n",
    "    # Execute Statment\n",
    "    query = (query)\n",
    "    try:\n",
    "        cursor.execute(query)\n",
    "    except Exception as ex:\n",
    "        print (ex)\n",
    "    #Create and save to query to SQL file\n",
    "    f = open(\"{}\".format(filename), \"a+\")\n",
    "    f.write(query + ';')\n",
    "    f.close()\n",
    "    \n",
    "def reset_table():\n",
    "    drop_table = ['drop table Concerts',\n",
    "                  'drop table Arenas',\n",
    "                  'drop table Performers',\n",
    "                  'DROP TABLE PerformanceTypes']\n",
    "    for query in tqdm_notebook(drop_table, desc = '%'):\n",
    "        try:\n",
    "            sql_update(query.upper())\n",
    "        except Exception as ex:\n",
    "            if ex == 'ORA-00942: table or view does not exist':\n",
    "                pass\n",
    "            else:\n",
    "                print (ex)\n",
    "        \n",
    "reset_table()"
   ]
  },
  {
   "cell_type": "markdown",
   "metadata": {},
   "source": [
    "# Section A"
   ]
  },
  {
   "cell_type": "markdown",
   "metadata": {},
   "source": [
    "#### 1. Write and execute the SQL statements to create the 4 tables given above. Choose appropriate data types for each column, and   declare primary key and foreign key constraints as appropriate."
   ]
  },
  {
   "cell_type": "code",
   "execution_count": 3,
   "metadata": {},
   "outputs": [],
   "source": [
    "queries = [\"create table PerformanceTypes(PerformanceTypeName varchar2(20), Primary Key(PerformanceTypeName))\",\n",
    "           '''create table Performers(PerformerID int primary key, FirstName varchar2(10), LastName varchar2(15) , \n",
    "              Address varchar2(30), PerformanceTypeName varchar2(10), foreign key(PerformanceTypeName) references PerformanceTypes (PerformanceTypeName))''',\n",
    "           \"create table Arenas(ArenaID int primary key, ArenaName varchar2(10), City varchar2(10), Capacity int)\",\n",
    "           '''create table Concerts(PerformerID int, ArenaID int , ConcertDate date, foreign key(PerformerID) references Performers(PerformerID), \n",
    "              foreign key(ArenaID) references Arenas(ArenaID))'''\n",
    "            ]\n",
    "for query in queries:\n",
    "    sql_update(query)"
   ]
  },
  {
   "cell_type": "markdown",
   "metadata": {},
   "source": [
    "#### 2. Insert rows in the PerformanceTypes table, for type ‘singer’, ‘dancer’ and ‘comedian’."
   ]
  },
  {
   "cell_type": "code",
   "execution_count": 4,
   "metadata": {},
   "outputs": [],
   "source": [
    "queries = [\"insert into PerformanceTypes values('Singer')\",\n",
    "           \"insert into PerformanceTypes values('Dancer')\",\n",
    "           \"insert into PerformanceTypes values('Comedian')\"]\n",
    "for query in queries:\n",
    "    sql_update(query)"
   ]
  },
  {
   "cell_type": "markdown",
   "metadata": {},
   "source": [
    "#### 3. Write the SQL statement to modify your Performers table to add a new column called DateOfBirth. Choose the appropriate data type for this column. The values in the column could be null"
   ]
  },
  {
   "cell_type": "code",
   "execution_count": 5,
   "metadata": {},
   "outputs": [],
   "source": [
    "query = \"ALTER TABLE Performers add DateOfbirth date\"\n",
    "sql_update(query)"
   ]
  },
  {
   "cell_type": "markdown",
   "metadata": {},
   "source": [
    "#### 4. Insert one row in the Performers table with PerformerID 1, name John Dow, address Annapolis, MD, and performance type ‘singer’"
   ]
  },
  {
   "cell_type": "code",
   "execution_count": 6,
   "metadata": {},
   "outputs": [],
   "source": [
    "query = \"insert into Performers values ({}, 'John', 'Dow','Annapolis MD','Singer',NULL)\".format(1)\n",
    "sql_update(query)"
   ]
  },
  {
   "cell_type": "markdown",
   "metadata": {},
   "source": [
    "#### 5. Try now to insert a performer row with a PerformanceTypeName that does not exist in PerformanceTypes table (ex. ‘painter’).      What happens? Show your work with errors."
   ]
  },
  {
   "cell_type": "code",
   "execution_count": 7,
   "metadata": {},
   "outputs": [
    {
     "name": "stdout",
     "output_type": "stream",
     "text": [
      "ORA-02291: integrity constraint (OOGUN1.SYS_C001353467) violated - parent key not found\n"
     ]
    }
   ],
   "source": [
    "query = \"insert into Performers values ({}, 'Jones', 'Wod','Annapolis, MD','Painter',NULL)\".format(2)\n",
    "sql_update(query)\n",
    "# Error occuer bacuause Painter is not delcared as part of the performance types"
   ]
  },
  {
   "cell_type": "markdown",
   "metadata": {},
   "source": [
    "#### 6. Insert 3 more rows in the Performers table, with  names ‘Matt Smith’, ‘Jane Brown’, and respectively ‘Jennifer Shade’, and addresses ‘Baltimore, MD’, ‘New York, NY’, and respectively ‘Seattle, WA’. All these 3 performers should be of type ‘dancer’!"
   ]
  },
  {
   "cell_type": "code",
   "execution_count": 8,
   "metadata": {},
   "outputs": [],
   "source": [
    "queries = [\"insert into Performers values (2, 'Matt', 'Smith','Baltimore, MD','Dancer',NULL)\",\n",
    "           \"insert into Performers values (3, 'Jane', 'Brown','New York, NY','Dancer',NULL)\",\n",
    "           \"insert into Performers values (4, 'Jennifer', 'Shade','Seattle, WA','Dancer',NULL)\"\n",
    "          ]\n",
    "for query in queries:\n",
    "    sql_update(query)"
   ]
  },
  {
   "cell_type": "markdown",
   "metadata": {},
   "source": [
    "#### 7. Change the DateOfBirth of the performer with id 1 to be ‘1990-03-02’"
   ]
  },
  {
   "cell_type": "code",
   "execution_count": 9,
   "metadata": {},
   "outputs": [],
   "source": [
    "query = \"UPDATE Performers SET DateOfbirth = TO_DATE('1990-03-02','yyyy-mm-dd') WHERE PerformerID = 1\"\n",
    "sql_update(query)\n",
    "# Initially gave errors but had to append the date string so SQL could format the date format"
   ]
  },
  {
   "cell_type": "markdown",
   "metadata": {},
   "source": [
    "#### 8. Remove the performer ‘Matt Smith’ from the Performers table"
   ]
  },
  {
   "cell_type": "code",
   "execution_count": 10,
   "metadata": {},
   "outputs": [],
   "source": [
    "query = \"DELETE FROM Performers WHERE FirstName='Matt' And LastName='Smith'\"\n",
    "sql_update(query)"
   ]
  },
  {
   "cell_type": "markdown",
   "metadata": {},
   "source": [
    "#### 9.\tWrite the SQL statement to remove performance type ‘singer’ from the PerformanceTypes table"
   ]
  },
  {
   "cell_type": "code",
   "execution_count": 11,
   "metadata": {},
   "outputs": [],
   "source": [
    "query = \"DELETE FROM PerformanceTypes WHERE PerformanceTypeName = 'SINGER'\"\n",
    "sql_update(query)"
   ]
  },
  {
   "cell_type": "markdown",
   "metadata": {},
   "source": [
    "#### 10.\tExecute the statement above, then list all rows from the PerformanceTypes table. Was ‘singer’ removed? Explain why the row was removed from the PerformanceTypes table, or why it was not removed. \n",
    "\n",
    "> problem with query"
   ]
  },
  {
   "cell_type": "markdown",
   "metadata": {},
   "source": [
    "#### 11.\tWrite the SQL statement to update the performance type name for ‘dancer’ in PerformanceTypes to be ‘dance performer’"
   ]
  },
  {
   "cell_type": "code",
   "execution_count": 12,
   "metadata": {},
   "outputs": [],
   "source": [
    "query = \"update PERFORMANCETYPES set PERFORMANCETYPENAME = 'DANCE PERFORMER' where PERFORMANCETYPENAME = 'DANCER'\"\n",
    "sql_update(query)"
   ]
  },
  {
   "cell_type": "markdown",
   "metadata": {},
   "source": [
    "#### Execute the statement above. Does the query succeed? "
   ]
  },
  {
   "cell_type": "markdown",
   "metadata": {},
   "source": [
    "#### 13.\tWrite the SQL statements to insert 3 rows with ids 1, 2, and respectively 3 into the Arenas table"
   ]
  },
  {
   "cell_type": "code",
   "execution_count": 13,
   "metadata": {},
   "outputs": [],
   "source": [
    "queries = [\"insert into Arenas values (1,'Zoo','Lincoln',12345)\",\n",
    "           \"insert into Arenas values (2,'CDM','Chicago',67890)\",\n",
    "           \"insert into Arenas values (3,'UIC','Rosemont',12309)\"]\n",
    "for query in queries:\n",
    "    sql_update(query)"
   ]
  },
  {
   "cell_type": "markdown",
   "metadata": {},
   "source": [
    "#### 14.\tWrite the SQL statements to insert 4 rows in the Concerts table, two of them for arena 1, and two for arena 2"
   ]
  },
  {
   "cell_type": "code",
   "execution_count": 14,
   "metadata": {},
   "outputs": [
    {
     "name": "stdout",
     "output_type": "stream",
     "text": [
      "ORA-02291: integrity constraint (OOGUN1.SYS_C001353469) violated - parent key not found\n"
     ]
    }
   ],
   "source": [
    "queries = [\"insert into Concerts values(1,1, TO_DATE('11-13-2017','mm-dd-YY'))\",\n",
    "           \"insert into Concerts values(2,1, TO_DATE('11-01-2001','mm-dd-YY'))\",\n",
    "           \"insert into Concerts values(1,2, TO_DATE('11-13-2018','mm-dd-YY'))\",\n",
    "           \"insert into Concerts values(3,2, TO_DATE('10-01-2018','mm-dd-YY'))\"] #TO_DATE('1990-03-02','yyyy-mm-dd')\n",
    "for query in queries:\n",
    "    sql_update(query)"
   ]
  },
  {
   "cell_type": "markdown",
   "metadata": {},
   "source": [
    "#### 15.\tCreate a new ‘Dancers’ table with the same structure as the Performers table"
   ]
  },
  {
   "cell_type": "code",
   "execution_count": 15,
   "metadata": {},
   "outputs": [
    {
     "name": "stdout",
     "output_type": "stream",
     "text": [
      "expecting string or bytes object\n"
     ]
    },
    {
     "ename": "TypeError",
     "evalue": "can only concatenate list (not \"str\") to list",
     "output_type": "error",
     "traceback": [
      "\u001b[0;31m---------------------------------------------------------------------------\u001b[0m",
      "\u001b[0;31mTypeError\u001b[0m                                 Traceback (most recent call last)",
      "\u001b[0;32m<ipython-input-15-f0063888281a>\u001b[0m in \u001b[0;36m<module>\u001b[0;34m()\u001b[0m\n\u001b[1;32m      1\u001b[0m \u001b[0mquery\u001b[0m \u001b[0;34m=\u001b[0m \u001b[0;34m[\u001b[0m\u001b[0;34m\"create table Dancers (PerformerID int primary key,           FirstName varchar2(10), LastName varchar2(15) , Address varchar2(30),          PerformanceTypeName varchar2(10) DateOfBirth date, foreign key(PerformanceTypeName)           references PerformanceTypes (PerformanceTypeName)) \"\u001b[0m\u001b[0;34m]\u001b[0m\u001b[0;34m\u001b[0m\u001b[0m\n\u001b[0;32m----> 2\u001b[0;31m \u001b[0msql_update\u001b[0m\u001b[0;34m(\u001b[0m\u001b[0mquery\u001b[0m\u001b[0;34m)\u001b[0m\u001b[0;34m\u001b[0m\u001b[0m\n\u001b[0m",
      "\u001b[0;32m<ipython-input-2-fcb3687f9907>\u001b[0m in \u001b[0;36msql_update\u001b[0;34m(query)\u001b[0m\n\u001b[1;32m     11\u001b[0m     \u001b[0;31m#Create and save to query to SQL file\u001b[0m\u001b[0;34m\u001b[0m\u001b[0;34m\u001b[0m\u001b[0m\n\u001b[1;32m     12\u001b[0m     \u001b[0mf\u001b[0m \u001b[0;34m=\u001b[0m \u001b[0mopen\u001b[0m\u001b[0;34m(\u001b[0m\u001b[0;34m\"{}\"\u001b[0m\u001b[0;34m.\u001b[0m\u001b[0mformat\u001b[0m\u001b[0;34m(\u001b[0m\u001b[0mfilename\u001b[0m\u001b[0;34m)\u001b[0m\u001b[0;34m,\u001b[0m \u001b[0;34m\"a+\"\u001b[0m\u001b[0;34m)\u001b[0m\u001b[0;34m\u001b[0m\u001b[0m\n\u001b[0;32m---> 13\u001b[0;31m     \u001b[0mf\u001b[0m\u001b[0;34m.\u001b[0m\u001b[0mwrite\u001b[0m\u001b[0;34m(\u001b[0m\u001b[0mquery\u001b[0m \u001b[0;34m+\u001b[0m \u001b[0;34m';'\u001b[0m\u001b[0;34m)\u001b[0m\u001b[0;34m\u001b[0m\u001b[0m\n\u001b[0m\u001b[1;32m     14\u001b[0m     \u001b[0mf\u001b[0m\u001b[0;34m.\u001b[0m\u001b[0mclose\u001b[0m\u001b[0;34m(\u001b[0m\u001b[0;34m)\u001b[0m\u001b[0;34m\u001b[0m\u001b[0m\n\u001b[1;32m     15\u001b[0m \u001b[0;34m\u001b[0m\u001b[0m\n",
      "\u001b[0;31mTypeError\u001b[0m: can only concatenate list (not \"str\") to list"
     ]
    }
   ],
   "source": [
    "query = [\"create table Dancers (PerformerID int primary key, \\\n",
    "          FirstName varchar2(10), LastName varchar2(15) , Address varchar2(30),\\\n",
    "          PerformanceTypeName varchar2(10) DateOfBirth date, foreign key(PerformanceTypeName) \\\n",
    "          references PerformanceTypes (PerformanceTypeName)) \"]\n",
    "sql_update(query)"
   ]
  },
  {
   "cell_type": "markdown",
   "metadata": {},
   "source": [
    "#### 16.\t Insert all performers of type ‘dancer’ from the Performers table into the Dancers table"
   ]
  },
  {
   "cell_type": "code",
   "execution_count": 16,
   "metadata": {},
   "outputs": [
    {
     "name": "stdout",
     "output_type": "stream",
     "text": [
      "ORA-00942: table or view does not exist\n",
      "ORA-00942: table or view does not exist\n",
      "ORA-00942: table or view does not exist\n"
     ]
    }
   ],
   "source": [
    "queries = [\"insert into Dancers values (2, 'Matt', 'Smith','Baltimore, MD','Dancer',NULL)\",\n",
    "           \"insert into Dancers values (3, 'Jane', 'Brown','New York, NY','Dancer',NULL)\",\n",
    "           \"insert into Dancers values (4, 'Jennifer', 'Shade','Seattle, WA','Dancer',NULL)\"\n",
    "          ]\n",
    "for query in queries:\n",
    "    sql_update(query)"
   ]
  },
  {
   "cell_type": "markdown",
   "metadata": {},
   "source": [
    "# Section B"
   ]
  },
  {
   "cell_type": "markdown",
   "metadata": {},
   "source": [
    "#### 2.\tConsider the below relational schema \n",
    "Customer (name, email, phone, totalPurchase) Video (vID, name, year, cost, genre) Actor (aID, name, dob) Price (priceCode, cost) Rents (email-FK, vID-FK, priceCode-FK, rentalFee, lateFee, date, dueDate, returnDate) Performs (vID-FK, aID-FK) Here is the schema for these tables, with primary key underlined"
   ]
  },
  {
   "cell_type": "code",
   "execution_count": 17,
   "metadata": {},
   "outputs": [
    {
     "name": "stdout",
     "output_type": "stream",
     "text": [
      "ORA-00955: name is already used by an existing object\n",
      "ORA-00955: name is already used by an existing object\n",
      "ORA-00955: name is already used by an existing object\n",
      "ORA-00955: name is already used by an existing object\n",
      "ORA-00955: name is already used by an existing object\n",
      "ORA-00955: name is already used by an existing object\n",
      "ORA-24373: invalid length specified for statement\n"
     ]
    }
   ],
   "source": [
    "filename = \"ogun_lab2_2.sql\"\n",
    "\n",
    "queries = [\"create table Customer (name varchar2(15),email varchar2(25) primary key,phone int,totalPurchase int)\",\n",
    "           \"create table Video (vID int primary key,name varchar2(20),year date,cost int,genre varchar2(10))\",\n",
    "           \"create table Actor (aID int primary key,name varchar2(15),dob date)\",\n",
    "           \"create table Price (priceCode int primary key,cost int)\",\n",
    "           \"create table Rents (email varchar2(25),vID int,priceCode int,rentalFee int,lateFee int, rentdate date,dueDate date, foreign key(email) references Customer(email), foreign key(vID) references Video(vID),foreign key(priceCode) references Price(priceCode))\",\n",
    "           \"create table Performs (vID int,aID int, foreign key(vID) references Video(vID),foreign key(aID) references Actor(aID))\",\n",
    "           \"\"]\n",
    "for query in queries:\n",
    "    sql_update(query)"
   ]
  },
  {
   "cell_type": "code",
   "execution_count": null,
   "metadata": {},
   "outputs": [],
   "source": []
  }
 ],
 "metadata": {
  "kernelspec": {
   "display_name": "Python 3",
   "language": "python",
   "name": "python3"
  },
  "language_info": {
   "codemirror_mode": {
    "name": "ipython",
    "version": 3
   },
   "file_extension": ".py",
   "mimetype": "text/x-python",
   "name": "python",
   "nbconvert_exporter": "python",
   "pygments_lexer": "ipython3",
   "version": "3.6.5"
  }
 },
 "nbformat": 4,
 "nbformat_minor": 2
}
