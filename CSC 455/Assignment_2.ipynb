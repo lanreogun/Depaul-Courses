{
 "cells": [
  {
   "cell_type": "code",
   "execution_count": null,
   "metadata": {},
   "outputs": [],
   "source": [
    "import pandas as pd\n",
    "import config"
   ]
  },
  {
   "cell_type": "code",
   "execution_count": null,
   "metadata": {},
   "outputs": [],
   "source": [
    "filename = \"ogun_lab2_1.sql\"\n",
    "cursor = config.cursor\n",
    "\n",
    "def sql_update(query):\n",
    "    # Execute Statment\n",
    "    query = (query.upper())\n",
    "    cursor.execute(query)\n",
    "    # Create and save to query to SQL file\n",
    "    #f = open(\"{}\".format(filename), \"a+\")\n",
    "    #f.write(query + ';')\n",
    "    #f.close()\n",
    "    \n",
    "def reset_table():\n",
    "    drop_table = ['drop table Concerts',\n",
    "                  'drop table Arenas',\n",
    "                  'drop table Performers',\n",
    "                  'DROP TABLE PerformanceTypes']\n",
    "    for query in drop_table:\n",
    "        sql_update(query.upper())\n",
    "        \n",
    "reset_table()"
   ]
  },
  {
   "cell_type": "markdown",
   "metadata": {},
   "source": [
    "# Section A"
   ]
  },
  {
   "cell_type": "markdown",
   "metadata": {},
   "source": [
    "#### 1. Write and execute the SQL statements to create the 4 tables given above. Choose appropriate data types for each column, and   declare primary key and foreign key constraints as appropriate."
   ]
  },
  {
   "cell_type": "code",
   "execution_count": null,
   "metadata": {},
   "outputs": [],
   "source": [
    "queries = [\"create table PerformanceTypes(PerformanceTypeName varchar2(20),Primary Key(PerformanceTypeName))\",\n",
    "           \"create table Performers(PerformerID int primary key, FirstName varchar2(10), LastName varchar2(15) , Address varchar2(30), PerformanceTypeName varchar2(10), foreign key(PerformanceTypeName) references PerformanceTypes (PerformanceTypeName))\",\n",
    "           \"create table Arenas(ArenaID int primary key, ArenaName varchar2(10), City varchar2(10), Capacity int)\",\n",
    "           \"create table Concerts(PerformerID int, ArenaID int , ConcertDate date, foreign key(PerformerID) references Performers(PerformerID), foreign key(ArenaID) references Arenas(ArenaID))\"\n",
    "            ]\n",
    "for query in queries:\n",
    "    sql_update(query)"
   ]
  },
  {
   "cell_type": "markdown",
   "metadata": {},
   "source": [
    "#### 2. Insert rows in the PerformanceTypes table, for type ‘singer’, ‘dancer’ and ‘comedian’."
   ]
  },
  {
   "cell_type": "code",
   "execution_count": null,
   "metadata": {},
   "outputs": [],
   "source": [
    "queries = [\"insert into PerformanceTypes values('Singer')\",\n",
    "           \"insert into PerformanceTypes values('Dancer')\",\n",
    "           \"insert into PerformanceTypes values('Comedian')\"]\n",
    "for query in queries:\n",
    "    sql_update(query)"
   ]
  },
  {
   "cell_type": "markdown",
   "metadata": {},
   "source": [
    "#### 3. Write the SQL statement to modify your Performers table to add a new column called DateOfBirth. Choose the appropriate data type for this column. The values in the column could be null"
   ]
  },
  {
   "cell_type": "code",
   "execution_count": null,
   "metadata": {},
   "outputs": [],
   "source": [
    "query = \"ALTER TABLE Performers add DateOfbirth date\"\n",
    "sql_update(query)"
   ]
  },
  {
   "cell_type": "markdown",
   "metadata": {},
   "source": [
    "#### 4. Insert one row in the Performers table with PerformerID 1, name John Dow, address Annapolis, MD, and performance type ‘singer’"
   ]
  },
  {
   "cell_type": "code",
   "execution_count": null,
   "metadata": {},
   "outputs": [],
   "source": [
    "query = \"insert into Performers values ({}, 'John', 'Dow','Annapolis MD','Singer',NULL)\".format(1)\n",
    "sql_update(query)"
   ]
  },
  {
   "cell_type": "markdown",
   "metadata": {},
   "source": [
    "#### 5. Try now to insert a performer row with a PerformanceTypeName that does not exist in PerformanceTypes table (ex. ‘painter’).      What happens? Show your work with errors."
   ]
  },
  {
   "cell_type": "code",
   "execution_count": null,
   "metadata": {},
   "outputs": [],
   "source": [
    "query = \"insert into Performers values ({}, 'Jones', 'Wod','Annapolis, MD','Painter',NULL)\".format(2)\n",
    "sql_update(query)\n",
    "# Error occuer bacuause Painter is not delcared as part of the performance types"
   ]
  },
  {
   "cell_type": "markdown",
   "metadata": {},
   "source": [
    "#### 6. Insert 3 more rows in the Performers table, with  names ‘Matt Smith’, ‘Jane Brown’, and respectively ‘Jennifer Shade’, and addresses ‘Baltimore, MD’, ‘New York, NY’, and respectively ‘Seattle, WA’. All these 3 performers should be of type ‘dancer’!"
   ]
  },
  {
   "cell_type": "code",
   "execution_count": null,
   "metadata": {},
   "outputs": [],
   "source": [
    "queries = [\"insert into Performers values (2, 'Matt', 'Smith','Baltimore, MD','Dancer',NULL)\",\n",
    "           \"insert into Performers values (3, 'Jane', 'Brown','New York, NY','Dancer',NULL)\",\n",
    "           \"insert into Performers values (4, 'Jennifer', 'Shade','Seattle, WA','Dancer',NULL)\"\n",
    "          ]\n",
    "for query in queries:\n",
    "    sql_update(query)"
   ]
  },
  {
   "cell_type": "markdown",
   "metadata": {},
   "source": [
    "#### 7. Change the DateOfBirth of the performer with id 1 to be ‘1990-03-02’"
   ]
  },
  {
   "cell_type": "code",
   "execution_count": null,
   "metadata": {},
   "outputs": [],
   "source": [
    "query = \"UPDATE Performers SET DateOfbirth = TO_DATE('1990-03-02','yyyy-mm-dd') WHERE PerformerID = 1\"\n",
    "sql_update(query)\n",
    "# Initially gave errors but had to append the date string so SQL could format the date format"
   ]
  },
  {
   "cell_type": "markdown",
   "metadata": {},
   "source": [
    "#### 8. Remove the performer ‘Matt Smith’ from the Performers table"
   ]
  },
  {
   "cell_type": "code",
   "execution_count": null,
   "metadata": {},
   "outputs": [],
   "source": [
    "query = \"DELETE FROM Performers WHERE FirstName='Matt' And LastName='Smith'\"\n",
    "sql_update(query)"
   ]
  },
  {
   "cell_type": "markdown",
   "metadata": {},
   "source": [
    "#### 9.\tWrite the SQL statement to remove performance type ‘singer’ from the PerformanceTypes table"
   ]
  },
  {
   "cell_type": "code",
   "execution_count": null,
   "metadata": {},
   "outputs": [],
   "source": [
    "query = \"delete from PERFORMANCETYPES where PERFORMANCETYPENAME = 'SINGER'\"\n",
    "sql_update(query)"
   ]
  },
  {
   "cell_type": "markdown",
   "metadata": {},
   "source": [
    "#### 10.\tExecute the statement above, then list all rows from the PerformanceTypes table. Was ‘singer’ removed? Explain why the row was removed from the PerformanceTypes table, or why it was not removed. \n",
    "\n",
    "> The item singer was removed deleted because it doesn't have any constraints with the other tables"
   ]
  },
  {
   "cell_type": "markdown",
   "metadata": {},
   "source": [
    "#### 11.\tWrite the SQL statement to update the performance type name for ‘dancer’ in PerformanceTypes to be ‘dance performer’"
   ]
  },
  {
   "cell_type": "code",
   "execution_count": null,
   "metadata": {},
   "outputs": [],
   "source": [
    "query = \"update PERFORMANCETYPES set PERFORMANCETYPENAME = 'DANCE PERFORMER' where PERFORMANCETYPENAME = 'DANCER'\"\n",
    "sql_update(query)"
   ]
  },
  {
   "cell_type": "markdown",
   "metadata": {},
   "source": [
    "#### 12.\tExecute the statement above. Does the query succeed? \n",
    "> The query was successfully executed and dance performer was updated"
   ]
  },
  {
   "cell_type": "markdown",
   "metadata": {},
   "source": [
    "#### 13.\tWrite the SQL statements to insert 3 rows with ids 1, 2, and respectively 3 into the Arenas table"
   ]
  },
  {
   "cell_type": "code",
   "execution_count": null,
   "metadata": {},
   "outputs": [],
   "source": [
    "queries = [\"insert into Arenas values (1,'Zoo','Lincoln',12345)\",\n",
    "           \"insert into Arenas values (2,'CDM','Chicago',67890)\",\n",
    "           \"insert into Arenas values (3,'UIC','Rosemont',12309)\"]\n",
    "for query in queries:\n",
    "    sql_update(query)"
   ]
  },
  {
   "cell_type": "markdown",
   "metadata": {},
   "source": [
    "#### 14.\tWrite the SQL statements to insert 4 rows in the Concerts table, two of them for arena 1, and two for arena 2"
   ]
  },
  {
   "cell_type": "code",
   "execution_count": null,
   "metadata": {},
   "outputs": [],
   "source": [
    "queries = [\"insert into Concerts values(1,1, TO_DATE('11-13-2017','mm-dd-YY'))\",\n",
    "           \"insert into Concerts values(2,1, TO_DATE('11-01-2001','mm-dd-YY'))\",\n",
    "           \"insert into Concerts values(1,2, TO_DATE('11-13-2018','mm-dd-YY'))\",\n",
    "           \"insert into Concerts values(3,2, TO_DATE('10-01-2018','mm-dd-YY'))\"] #TO_DATE('1990-03-02','yyyy-mm-dd')\n",
    "for query in queries:\n",
    "    sql_update(query)"
   ]
  },
  {
   "cell_type": "markdown",
   "metadata": {},
   "source": [
    "#### 15.\tCreate a new ‘Dancers’ table with the same structure as the Performers table"
   ]
  },
  {
   "cell_type": "code",
   "execution_count": null,
   "metadata": {},
   "outputs": [],
   "source": [
    "query = [\"create table Dancers (PerformerID int primary key, \\\n",
    "          FirstName varchar2(10), LastName varchar2(15) , Address varchar2(30),\\\n",
    "          PerformanceTypeName varchar2(10) DateOfBirth date, foreign key(PerformanceTypeName) \\\n",
    "          references PerformanceTypes (PerformanceTypeName)) \"]\n",
    "sql_update(query)"
   ]
  },
  {
   "cell_type": "markdown",
   "metadata": {},
   "source": [
    "#### 16.\t Insert all performers of type ‘dancer’ from the Performers table into the Dancers table"
   ]
  },
  {
   "cell_type": "code",
   "execution_count": null,
   "metadata": {},
   "outputs": [],
   "source": [
    "queries = [\"insert into Dancers values (2, 'Matt', 'Smith','Baltimore, MD','Dancer',NULL)\",\n",
    "           \"insert into Dancers values (3, 'Jane', 'Brown','New York, NY','Dancer',NULL)\",\n",
    "           \"insert into Dancers values (4, 'Jennifer', 'Shade','Seattle, WA','Dancer',NULL)\"\n",
    "          ]"
   ]
  },
  {
   "cell_type": "markdown",
   "metadata": {},
   "source": [
    "# Section B"
   ]
  },
  {
   "cell_type": "markdown",
   "metadata": {},
   "source": [
    "#### 2.\tConsider the below relational schema \n",
    "Customer (name, email, phone, totalPurchase) Video (vID, name, year, cost, genre) Actor (aID, name, dob) Price (priceCode, cost) Rents (email-FK, vID-FK, priceCode-FK, rentalFee, lateFee, date, dueDate, returnDate) Performs (vID-FK, aID-FK) Here is the schema for these tables, with primary key underlined"
   ]
  },
  {
   "cell_type": "code",
   "execution_count": null,
   "metadata": {},
   "outputs": [],
   "source": [
    "filename = \"ogun_lab2_2.sql\"\n",
    "\n",
    "queries = [\"create table Customer (name varchar2(15),email varchar2(25) primary key,phone int,totalPurchase int)\",\n",
    "           \"create table Video (vID int primary key,name varchar2(20),year date,cost int,genre varchar2(10))\",\n",
    "           \"create table Actor (aID int primary key,name varchar2(15),dob date)\",\n",
    "           \"create table Price (priceCode int primary key,cost int)\",\n",
    "           \"create table Rents (email varchar2(25),vID int,priceCode int,rentalFee int,lateFee int, rentdate date,dueDate date, foreign key(email) references Customer(email), foreign key(vID) references Video(vID),foreign key(priceCode) references Price(priceCode))\",\n",
    "           \"create table Performs (vID int,aID int, foreign key(vID) references Video(vID),foreign key(aID) references Actor(aID))\",\n",
    "           \"\"]\n",
    "for query in queries:\n",
    "    sql_update(query)"
   ]
  },
  {
   "cell_type": "code",
   "execution_count": null,
   "metadata": {},
   "outputs": [],
   "source": []
  }
 ],
 "metadata": {
  "kernelspec": {
   "display_name": "Python 3",
   "language": "python",
   "name": "python3"
  },
  "language_info": {
   "codemirror_mode": {
    "name": "ipython",
    "version": 3
   },
   "file_extension": ".py",
   "mimetype": "text/x-python",
   "name": "python",
   "nbconvert_exporter": "python",
   "pygments_lexer": "ipython3",
   "version": "3.6.5"
  }
 },
 "nbformat": 4,
 "nbformat_minor": 2
}
