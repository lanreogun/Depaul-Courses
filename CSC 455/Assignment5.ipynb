{
 "cells": [
  {
   "cell_type": "markdown",
   "metadata": {},
   "source": [
    "Olusola Ogun\n",
    "\n",
    "Assignment #5\n",
    "\n",
    "\n",
    "### Section 1\n",
    "1. Use the tweet table we created in the class and write the follow SQL queries”\n",
    "    a. Count the number of iPhone users (based on “source” attribute)\n",
    "        1. SELECT COUNT(SOURCE) FROM TWEETS WHERE SOURCE = '%TWITTER%FOR%IPHONE%'\n",
    "    b. Create a view that contains only “id_str”, “text” and “source” from each tweet that has a “retweet_count” of at least 5\n",
    "        1. CREATE VIEW RETWEETCOUNT AS SELECT ID_STR, TEXT, SOURCE FROM TWEETS WHERE RETWEET_COUNT >=5\n",
    "\n",
    "### Section 2\n",
    "2. In this part of the assignment we are going to work with a larger collection of tweets (10,000) that are available here: \n",
    "http://rasinsrv07.cstcis.cti.depaul.edu/CSC455/Assignment5.txt\n",
    "\n",
    "    c. Create a new SQL table for the user dictionary. It should contain the following attributes “id”, “name”, “screen_name”, “description” and “friends_count”. Modify your SQL table from the class we did in class to include “user_id” which will be a foreign key referencing the user table"
   ]
  },
  {
   "cell_type": "markdown",
   "metadata": {},
   "source": [
    "import sqlite3\n",
    "\n",
    "conn=sqlite3.connect('CSC_455_Assignment5.db')\n",
    "c=conn.cursor()\n",
    "user='''CREATE TABLE USER\n",
    "        (\n",
    "        ID NUMBER(20),\n",
    "        NAME VARCHAR(100)\n",
    "        SCREEN_NAME VARCHAR(100)\n",
    "        DESCRIPTION VARCHAR(1000)\n",
    "        FRIENDS_COUNT NUMBER(20)\n",
    "\n",
    "        CONSTRAINT PK_USER\n",
    "\n",
    "        PRIMARY KEY(ID)\n",
    "        ):'''\n",
    "c.execute('DROP TABLE IF EXISTS USER');\n",
    "c.execute(user)\n",
    "\n",
    "tweet='''CREATE TABLE TWEET\n",
    "(\n",
    "CREATED_AT DATE,\n",
    "ID_STR CHAR(30)\n",
    "TEXT VARCHAR(1000),\n",
    "SOURCE VARCHAR(500),\n",
    "IN_REPLY_TO_USER_ID NUMBER(20),\n",
    "IN_REPLY_TO_SCREEN_NAME VARCHAR(50),\n",
    "IN_REPLY_TO_STATUS_ID NUMBER(30),\n",
    "RETWEET_COUNT NUMBER(100),\n",
    "CONTRIBUTORS VARCHAR(200),\n",
    "USER_ID NUMBER(50)\n",
    "\n",
    "CONSTRAINT PK_TWEET PRIMARY KEY(ID_STR),\n",
    "CONSTRAINT FK_TWEET FORIEGN KEY(USER_ID) REFERENCES USER(ID)\n",
    ");'''\n",
    "\n",
    "c.execute('DROP TABLE IF EXISTS TWEET');\n",
    "c.execute(TWEET)\n",
    "conn.commit()\n",
    "    \n",
    "    d. Write python code that is going to read and load the Assignment5.txt file from the web and populate both of your tables (Tweet table from class example and User table from this assignment). For tweets that could not parse, simply store them in Assignment5_errors.txt file\n",
    " \n",
    "\n",
    "import json\n",
    "import urllib\n",
    "\n",
    "allTweets = urllib.request(\"http://rasinsrv07.cstcis.cti.depaul.edu/CSC455/Assignment5.txt\").read()\n",
    "allTweets = allTweets.split(\"\\n\")\n",
    "\n",
    "for tweet in allTweets:\n",
    "    try:\n",
    "        tdict = json.loads(tweet.decode('utf8'))\n",
    "    except ValueError:\n",
    "        newtweet=tweet.encode('utf8')\n",
    "        outfile=open(\"Assignment5_errors.txt\",\"w\")\n",
    "        outfile.write(newtweet)\n",
    "        outfile.close()"
   ]
  },
  {
   "cell_type": "markdown",
   "metadata": {},
   "source": [
    "### Section 3\n",
    "\n",
    "a. Write and execute a SQL query to do the following: Find the user (“id” and “name”) with the highest “friend_count” in the database\n",
    "    1. SELECT id,name FROM tweetuser WHERE friends_count (SELECT max(friends_count) as friends_count FROM tweetuser)\n",
    "b. Write and execute SQL query to do the following: Find the tweets without associated user id entry. \n",
    "    1. SELECT * FROM tweet where user_id=null"
   ]
  }
 ],
 "metadata": {
  "kernelspec": {
   "display_name": "Python 3",
   "language": "python",
   "name": "python3"
  },
  "language_info": {
   "codemirror_mode": {
    "name": "ipython",
    "version": 3
   },
   "file_extension": ".py",
   "mimetype": "text/x-python",
   "name": "python",
   "nbconvert_exporter": "python",
   "pygments_lexer": "ipython3",
   "version": "3.6.5"
  }
 },
 "nbformat": 4,
 "nbformat_minor": 2
}
