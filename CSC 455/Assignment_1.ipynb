{
 "cells": [
  {
   "cell_type": "markdown",
   "metadata": {
    "slideshow": {
     "slide_type": "slide"
    }
   },
   "source": [
    "# 1. This table is un-normalized form. Convert this table from 1NF to 3NF"
   ]
  },
  {
   "cell_type": "code",
   "execution_count": 1,
   "metadata": {
    "slideshow": {
     "slide_type": "skip"
    }
   },
   "outputs": [],
   "source": [
    "import pandas as pd\n",
    "\n",
    "def create_table(df, cols):\n",
    "    df = df[cols].drop_duplicates().reset_index(drop=True)\n",
    "    return df\n",
    "\n",
    "# Convert Table to 1NF to 3NF\n",
    "data = {'Project Code'    :['PC010', 'PC010', 'PC010', 'PC045', 'PC045', 'PC045', 'PC045', 'PC064', 'PC064', 'PC064'],\n",
    "        'Project Title'   :['Pension Systems','Pension Systems','Pension Systems','Salary Systems', \n",
    "                            'Salary Systems', 'Salary Systems', 'Salary Systems', 'HR Systems', \n",
    "                            'HR Systems', 'HR Systems'],\n",
    "        'Project Manager' :['M Philips', 'M Philips', 'M Philips', 'H Martin', 'H Martin', 'H Martin', 'H Martin',\n",
    "                            'K Lewis', 'K Lewis', 'K Lewis'],\n",
    "        'Project Budget'  :['24500', '24500', '24500', '17400', '17400', '17400', '17400', '12250',\n",
    "                            '12250', '12250'],\n",
    "        'Employee No.'    :['S10001', 'S10030', 'S21010', 'S10010','S10001', 'S31002', 'S13210', \n",
    "                            'S31002', 'S21010', 'S10034'],\n",
    "        'Employee Name'   :['A. Smith', 'L. Jones', 'P. Lewis', 'B. Jones', 'A. Smith', 'T. Gilbert', 'W. Richards',\n",
    "                            'T. Gilbert', 'P. Lewis', 'B. James'],\n",
    "        'Department No.'  :['L004', 'L023', 'L004', 'L004', 'L004', 'L028', 'L008', 'L028', 'L004', 'L009'],\n",
    "        'Department Name' :['IT', 'Pensions', 'IT', 'IT', 'IT', 'Database', 'Salary', 'Database', 'IT', 'HR'],\n",
    "        'Hourly Rate'     :[22.00, 18.50, 21.00, 21.75, 18.00, 25.50, 17.00, 23.25, 17.50, 16.50]\n",
    "       }\n",
    "df = pd.DataFrame(data)\n",
    "# Sort Columns to mathc assignment sheet\n",
    "df = df[['Project Code', 'Project Title', 'Project Manager', 'Project Budget', 'Employee No.', 'Employee Name',\n",
    "         'Department No.', 'Department Name', 'Hourly Rate']]\n",
    "\n",
    "# Table 1\n",
    "cols = ['Project Code', 'Project Title', 'Project Manager', 'Project Budget']\n",
    "table_1 = create_table(df, cols)\n",
    "# Table 2\n",
    "cols = ['Project Code', 'Employee No.', 'Employee Name', 'Department No.', 'Department Name', 'Hourly Rate']\n",
    "table_2 = create_table(df, cols)"
   ]
  },
  {
   "cell_type": "code",
   "execution_count": 25,
   "metadata": {},
   "outputs": [
    {
     "name": "stdout",
     "output_type": "stream",
     "text": [
      "**************************************************************** 1NF ***************************\n",
      "  Project Code    Project Title Project Manager Project Budget\n",
      "0        PC010  Pension Systems       M Philips          24500\n",
      "1        PC045   Salary Systems        H Martin          17400\n",
      "2        PC064       HR Systems         K Lewis          12250\n",
      "  Project Code Employee No. Employee Name Department No. Department Name  \\\n",
      "0        PC010       S10001      A. Smith           L004              IT   \n",
      "1        PC010       S10030      L. Jones           L023        Pensions   \n",
      "2        PC010       S21010      P. Lewis           L004              IT   \n",
      "3        PC045       S10010      B. Jones           L004              IT   \n",
      "4        PC045       S10001      A. Smith           L004              IT   \n",
      "5        PC045       S31002    T. Gilbert           L028        Database   \n",
      "6        PC045       S13210   W. Richards           L008          Salary   \n",
      "7        PC064       S31002    T. Gilbert           L028        Database   \n",
      "8        PC064       S21010      P. Lewis           L004              IT   \n",
      "9        PC064       S10034      B. James           L009              HR   \n",
      "\n",
      "   Hourly Rate  \n",
      "0        22.00  \n",
      "1        18.50  \n",
      "2        21.00  \n",
      "3        21.75  \n",
      "4        18.00  \n",
      "5        25.50  \n",
      "6        17.00  \n",
      "7        23.25  \n",
      "8        17.50  \n",
      "9        16.50  \n",
      "**************************************************************** 2NF ***************************\n",
      "  Project Code    Project Title Project Manager Project Budget\n",
      "0        PC010  Pension Systems       M Philips          24500\n",
      "1        PC045   Salary Systems        H Martin          17400\n",
      "2        PC064       HR Systems         K Lewis          12250\n",
      "  Project Code Employee No.  Hourly Rate\n",
      "0        PC010       S10001        22.00\n",
      "1        PC010       S10030        18.50\n",
      "2        PC010       S21010        21.00\n",
      "3        PC045       S10010        21.75\n",
      "4        PC045       S10001        18.00\n",
      "5        PC045       S31002        25.50\n",
      "6        PC045       S13210        17.00\n",
      "7        PC064       S31002        23.25\n",
      "8        PC064       S21010        17.50\n",
      "9        PC064       S10034        16.50\n",
      "  Employee No. Employee Name Department No. Department Name\n",
      "0       S10001      A. Smith           L004              IT\n",
      "1       S10030      L. Jones           L023        Pensions\n",
      "2       S21010      P. Lewis           L004              IT\n",
      "3       S10010      B. Jones           L004              IT\n",
      "4       S31002    T. Gilbert           L028        Database\n",
      "5       S13210   W. Richards           L008          Salary\n",
      "6       S10034      B. James           L009              HR\n",
      "**************************************************************** 3NF ***************************\n",
      "  Project Code    Project Title Project Manager Project Budget\n",
      "0        PC010  Pension Systems       M Philips          24500\n",
      "1        PC045   Salary Systems        H Martin          17400\n",
      "2        PC064       HR Systems         K Lewis          12250\n",
      "  Project Code Employee No.  Hourly Rate\n",
      "0        PC010       S10001        22.00\n",
      "1        PC010       S10030        18.50\n",
      "2        PC010       S21010        21.00\n",
      "3        PC045       S10010        21.75\n",
      "4        PC045       S10001        18.00\n",
      "5        PC045       S31002        25.50\n",
      "6        PC045       S13210        17.00\n",
      "7        PC064       S31002        23.25\n",
      "8        PC064       S21010        17.50\n",
      "9        PC064       S10034        16.50\n",
      "  Employee No. Employee Name Department No.\n",
      "0       S10001      A. Smith           L004\n",
      "1       S10030      L. Jones           L023\n",
      "2       S21010      P. Lewis           L004\n",
      "3       S10010      B. Jones           L004\n",
      "4       S31002    T. Gilbert           L028\n",
      "5       S13210   W. Richards           L008\n",
      "6       S10034      B. James           L009\n",
      "  Department Name Department No.\n",
      "0              IT           L004\n",
      "1        Pensions           L023\n",
      "2        Database           L028\n",
      "3          Salary           L008\n",
      "4              HR           L009\n"
     ]
    }
   ],
   "source": [
    "print ('*'* 4**3, '1NF', '*'* 3**3)\n",
    "print (table_1)\n",
    "print (table_2)\n",
    "print ('*'* 4**3, '2NF', '*'* 3**3)\n",
    "print (table_1)\n",
    "# Table 2\n",
    "cols = ['Project Code', 'Employee No.','Hourly Rate']\n",
    "table_3 = create_table(df, cols)\n",
    "print (table_3)\n",
    "cols = ['Employee No.', 'Employee Name', 'Department No.', 'Department Name']\n",
    "table_4 = create_table(df, cols)\n",
    "print (table_4)\n",
    "print ('*'* 4**3, '3NF', '*'* 3**3)\n",
    "print (table_1)\n",
    "print (table_3)\n",
    "cols = ['Employee No.', 'Employee Name', 'Department No.']\n",
    "table_5 = create_table(df, cols)\n",
    "print (table_5)\n",
    "cols = ['Department Name', 'Department No.']\n",
    "table_6 = create_table(df, cols)\n",
    "print (table_6)"
   ]
  },
  {
   "cell_type": "markdown",
   "metadata": {},
   "source": [
    "# 2.  The following schema is used to register information on repayment of loans\n",
    "Schema: Repayment(borrower_id,name,address,loanamount,requestdate,repayment_date, repayment_amount)\n",
    "- Functional Dependancies:\n",
    "    - borrower_id              : name, address\n",
    "    - borrower_id, requestdate : loanamount \n",
    "- Conversion Schema to 3NF\n",
    "    - 1_Repayment (borrower_id,name,address)\n",
    "    - 2_Repayment (borrower_id,requestdate,loanamount)\n",
    "    - 3_Repayment (borrower_id,requestdate,repayment_date,repayment_amount)"
   ]
  },
  {
   "cell_type": "markdown",
   "metadata": {},
   "source": [
    "# 3. Create a relational schema with underlined (primary) keys and arrows connecting foreign keys and primary keys for a database containing the following information.\n",
    "\n",
    "-\tAuthors have Last Name, Firstname, ID, and Birthdate (identified by Author_ID)\n",
    "-\tPublishers have Name, ID, address (identified by Publisher_ID)\n",
    "-\tBooks have ISBN, Title, Publisher (each book has a unique publisher and can be identified by ISBN).\n",
    "-\tAuthors Write Books; many authors can co-author a book. \n",
    "\n",
    "Author ID and Publisher ID are underlined and forienkeys are in **Bold**\n",
    "\n",
    "![title](Screen Shot 2018-04-10 at 4.23.18 PM.png)"
   ]
  },
  {
   "cell_type": "markdown",
   "metadata": {},
   "source": [
    "### 4.  Consider the below table structure that a company uses to keep track of office equipment’s."
   ]
  },
  {
   "cell_type": "markdown",
   "metadata": {},
   "source": [
    "The Item_Id is the primary key while room_num identifies other details(i.e, bld_num, bld_name)\n",
    "This is then a transitive dependency.\n",
    "\n",
    "Item_Id -> Item_Label, Room_num, bld_num, bld_name, bld_manager\n",
    "\n",
    "Room_num -> bld_num, bld_name, bld_manager\n",
    "\n",
    "There is no partial dependency in this relation. \n",
    "\n",
    "The 3NF normalized form is R1 (Item_id, Item_Label) and R2 (Room_Num, Bld_num, Bld_name, Bld_manager)"
   ]
  },
  {
   "cell_type": "markdown",
   "metadata": {},
   "source": [
    "# 5. Normalize the below data"
   ]
  },
  {
   "cell_type": "markdown",
   "metadata": {},
   "source": [
    " - Schema representation of given database is:\n",
    "     - CustOrderForm(ProdNo(Primary Key),ProdDesc,Quantity,UnitPrice,SubTotal,OrderNo,OrderDate,CusNo,Cusname,CusAdd\n",
    " - 1NF\n",
    "     - The data provided is already in 1NF\n",
    " - 2NF\n",
    "     - Product(ProdNo(Primary Key),ProdDesc,Quantity,UnitPrice,SubTotal)\n",
    "     - Order(OrderNo(Primary Key),OrderDate,Quantity,subtotal,UnitPrice,ProdNo(Foreign Key))\n",
    "     - Customer(CusNo(Primary Key),CusName,CusAdd,OrderNo(Foreign Key))"
   ]
  },
  {
   "cell_type": "markdown",
   "metadata": {},
   "source": [
    "- Schema Representation of the Table: \n",
    "    - OrderForm, Product No., Description,Quantity,UnitPrice,OrderNo,Date,Customer No,Customer Name, Customer Address)\n",
    "- 1NF\n",
    "    - As per the 1NF Rule, each and every attribute in a table must be unique and its already in first normal form\n",
    "- 2NF\n",
    "    - As per second normal form,schema should be in 1NF and attributes within that table should depend individually on primary key\n",
    "    - Partial dependancy would be on the primary key **Product No.**\n",
    "    - Product(ProdNo(Primary Key),ProdDesc,Quantity,UnitPrice,SubTotal)\n",
    "    - Order(OrderNo(Primary Key),OrderDate,Quantity,subtotal,UnitPrice,ProdNo(Foreign Key))\n",
    "    - Customer(CusNo(Primary Key),CusName,CusAdd,OrderNo(Foreign Key))\n",
    "- 3NF\n",
    "    - After normalizing the table to 2NF there are no trivial dependencies"
   ]
  },
  {
   "cell_type": "code",
   "execution_count": null,
   "metadata": {},
   "outputs": [],
   "source": []
  }
 ],
 "metadata": {
  "kernelspec": {
   "display_name": "Python 3",
   "language": "python",
   "name": "python3"
  },
  "language_info": {
   "codemirror_mode": {
    "name": "ipython",
    "version": 3
   },
   "file_extension": ".py",
   "mimetype": "text/x-python",
   "name": "python",
   "nbconvert_exporter": "python",
   "pygments_lexer": "ipython3",
   "version": "3.6.5"
  }
 },
 "nbformat": 4,
 "nbformat_minor": 2
}
