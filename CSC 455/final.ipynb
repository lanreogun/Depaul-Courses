{
 "cells": [
  {
   "cell_type": "markdown",
   "metadata": {},
   "source": [
    "Olusola Ogun\n",
    "\n",
    "Final Exam\n",
    "\n",
    "**CSC 455**\n",
    "\n",
    "PART 1\n",
    "\n",
    "1. The following database contains information about actors, plays, and roles performed. \n",
    "\n",
    "    a. Write a SQL query that returns the number of actors who have performed in three or more different plays written by the author “August Wilson”.\n",
    "    \n",
    "        SELECT'count(r.actor_id) FROM'Role'r,'Play'p WHERE'p.author'='‘August'Wilson’'AND p.play_id'='r.play_id GROUP'BY r.actor_id HAVING'count(DISTINCT r.play_id)'>=3\n",
    "        \n",
    "    b. Write a SQL query that returns the names of all actors who have performed some play by the author “Chekhov” and have never performed in any play written by author “Shakespeare”.The list should not contain duplicates but does not need to be ordered.\n",
    "    \n",
    "        SELECT'DISTINCT a.name FROM'Actor'a,'Play'p,'Role'r WHERE'p.author'='‘Chekhov’'AND'p.play_id'='r.play_id'AND'r.actor_id'='a.actor_id'AND a.actor_id NOT'IN'(SELECT'r2.actor_id FROM'Role'r2,'Play'p2 WHERE'p2.author'='‘Shakespeare’' AND 'p2.play_id'='r2.play_id)\n",
    "\n",
    "2. Use Python SQL to complete the below. (25 points)"
   ]
  },
  {
   "cell_type": "code",
   "execution_count": null,
   "metadata": {},
   "outputs": [],
   "source": [
    "# Use Python SQL to complete the below. (25 points)\n",
    "import sqlite3\n",
    "import urllib.request\n",
    "import json\n",
    "import time\n",
    "\n",
    "# Identify a primary key generate and execute a python SQL DDL command to Create table.\n",
    "conn = sqlite3.connect(\"final.db\")\n",
    "c = conn.cursor()\n",
    "sql = 'CREATE TABLE Books (ISBN CHAR(10) NOT NULL, NAME CHAR(30),PRICE INT, NumberOfCopies INT)'\n",
    "c.execute('drop table Books')\n",
    "c.execute(sql)\n",
    "# ISBN is selected as the Primary Key\n",
    "\n",
    "c.execute('create table books (ISBN NUMBER(20) NOT NULL, NAME VARCHAR2(100), PRICE NUMBER(20), NUMBEROFCOPIES NUMBER(20) CONSTRAINT BOOK_PK PRIMARY KEY (ISBN))')\n",
    "\n",
    "# Make your own data and insert 10 rows in the table created using python SQLite.\n",
    "c.execute(\"INSERT INTO Books(ISBN, NAME,PRICE, NumberOfCopies) VALUES ('1232633434', 'MATH', 10,5 )\")\n",
    "c.execute(\"INSERT INTO Books(ISBN, NAME,PRICE, NumberOfCopies) VALUES ('4874533434', 'ADVENGLISH', 210,100)\")\n",
    "c.execute(\"INSERT INTO Books(ISBN, NAME,PRICE, NumberOfCopies) VALUES ('1202633432', 'ADVMATH', 100,5 )\")\n",
    "c.execute(\"INSERT INTO Books(ISBN, NAME,PRICE, NumberOfCopies) VALUES ('1242633434', 'FRENCH', 10,5 )\")\n",
    "c.execute(\"INSERT INTO Books(ISBN, NAME,PRICE, NumberOfCopies) VALUES ('1532633130', 'PYTHON', 10,5 )\")\n",
    "c.execute(\"INSERT INTO Books(ISBN, NAME,PRICE, NumberOfCopies) VALUES ('1232693434', 'MATH', 10,5 )\")\n",
    "c.execute(\"INSERT INTO Books(ISBN, NAME,PRICE, NumberOfCopies) VALUES ('4874533434', 'ADVENGLISH', 210,100)\")\n",
    "c.execute(\"INSERT INTO Books(ISBN, NAME,PRICE, NumberOfCopies) VALUES ('2202633432', 'ADVPYTHON', 190,5 )\")\n",
    "c.execute(\"INSERT INTO Books(ISBN, NAME,PRICE, NumberOfCopies) VALUES ('1249633434', 'CIVIL', 190,5 )\")\n",
    "c.execute(\"INSERT INTO Books(ISBN, NAME,PRICE, NumberOfCopies) VALUES ('1539633434', 'CPLUS', 210,5 )\")\n",
    "\n",
    "# Retrieve all the records from the table Books\n",
    "c.execute(\"SELECT * from books\")\n",
    "\n",
    "# Insert another record in the table as ('9875465248','Programming With Python',100,50)\n",
    "c.execute(\"INSERT INTO Books(ISBN, NAME,PRICE, NumberOfCopies) VALUES ('9875465248', 'Programming With Python', 100,50 )\")\n",
    "\n",
    "# Update the record inserted above – Price -> new Value -> 60 and Number of copies -> new value -> 100\n",
    "c.execute(\"UPDATE Books set PRICE = 60 ,NumberOfCopies=100 where ISBN = 9875465248\")\n",
    "\n",
    "# Delete the record from the above table where number of copies = 100\n",
    "c.execute(\"DELETE from books where NumberOfCopies=100;\")\n",
    "\n",
    "# Retrieve all the records from the table Books\n",
    "c.execute(\"SELECT * from books\")\n",
    "\n",
    "# Retrieve sum of all copies and the avg price from the above table.\n",
    "c.execute(\"SELECT sum(NumberOfCopies) AS Total,(avg(sum(PRICE)*sum(NumberOfCopies))) AS Average priceFROM Books;\")"
   ]
  },
  {
   "cell_type": "markdown",
   "metadata": {},
   "source": [
    "Part 2\n",
    "\n",
    "3. We will use a full day worth of tweets as an input (there are total of 4.4M tweets in this file): http://rasinsrv07.cstcis.cti.depaul.edu/CSC455/OneDayOfTweets.txt\n",
    "\n",
    "    a. Create a 3rd table incorporating the Geo table (in addition to tweet and user tables that you already have) and extend your schema accordingly.\n",
    "You will need to generate an ID for the Geo table primary key (you may use any value or combination of values as long as it is unique) for that table and link it to the Tweet table (foreign key should be in the Tweet table because there can be multiple tweets sent from the same location). In addition to the primary key column, the geo table should have “type”, “longitude” and “latitude” columns"
   ]
  },
  {
   "cell_type": "code",
   "execution_count": null,
   "metadata": {},
   "outputs": [],
   "source": [
    "conn = sqlite3.connect('Tweets_Database.db')\n",
    "c = conn.cursor()\n",
    "webFD=urllib.request.urlopen(\"http://rasinsrv07.cstcis.cti.depaul.edu/CSC455/OneDayOfTweets.txt\")\n",
    "\n",
    "Line = webFD.readline()\n",
    "\n",
    "tweetsdata= (Line.decode('utf8')).split('EndOfTweet')\n",
    "\n",
    "c.execute('DROP TABLE IF EXISTS Tweets');\n",
    "c.execute('DROP TABLE IF EXISTS USER);\n",
    "\n",
    "# Create Table Tweets\n",
    "c.execute('''CREATE TABLE tweet(created_at DATETIME, user_id INT,id_str INT, text TEXT, source TEXT, in_reply_to_user_id INT,in_reply_to_screen_name TEXT,\n",
    "            in_reply_to_status_id INT, retweet_count INT,\n",
    "            contributors TEXT CONSTRAINT tweet_FK FOREIGN KEY (user_id) REFERENCES user(id), CONSTRAINT tweet_FK2 FOREIGN KEY (user_str) REFERENCES Geo(user_str)''')\n",
    "\n",
    "\n",
    "# Create Table User\n",
    "c.execute('''CREATE TABLE user (id INT, screen_name TEXT, description TEXT, friends_count INT, contributors TEXT CONSTRAINT USER_PK PRIMARY KEY(ID))''')\n",
    "\n",
    "# Create Table Geo\n",
    "c.execute('''CREATE TABLE Geo (id_str INT, type TEXT, longitude INT, latitude INT, CONSTRAINT GEO_PK PRIMARY KEY(id_str)''')"
   ]
  },
  {
   "cell_type": "markdown",
   "metadata": {},
   "source": [
    "    b. Use python to download from the web and save to a local text file (not into database yet, just to text file) at least 500,000 lines worth of tweets. Test your code with fewer rows first – you can reduce the number of tweets if your computer is running too slow to handle 500K tweets. Report how long did it take"
   ]
  },
  {
   "cell_type": "code",
   "execution_count": null,
   "metadata": {},
   "outputs": [],
   "source": [
    "tweet_data=urllib.request.urlopen(\"http://rasinsrv07.cstcis.cti.depaul.edu/CSC455/OneDayOfTweets.txt\").read(1000000)\n",
    "str_data = str(tweet_data)\n",
    "lines = str_data.split('\\\\n') # then split it into lines\n",
    "fx = open('downloadedfile.txt','w')\n",
    "for line in lines:\n",
    "    fx.write(line+'\\n')\n",
    "fx.close()"
   ]
  },
  {
   "cell_type": "markdown",
   "metadata": {},
   "source": [
    "c. Repeat what you did in part-b, but instead of saving tweets to the file, populate the 3-table schema that you created in SQLite. Be sure to execute commit and verify that the data has been successfully loaded (report row counts for each of the 3 tables)."
   ]
  },
  {
   "cell_type": "code",
   "execution_count": null,
   "metadata": {},
   "outputs": [],
   "source": [
    "# Creating Tables and error.txt file. \n",
    "\n",
    "datatweet = []\n",
    "datauser = []\n",
    "errors = open('exam_errors.txt', 'w')\n",
    "\n",
    "for OneTweetline in tweetdata:\n",
    "    try:\n",
    "        tweetrecord= json.loads(OneTweetline, encoding='utf-8')\n",
    "        datatweet.append((tweetrecord[\"created_at\"], tweetrecord[\"user_id \"],  tweetrecord[\"id_str\"], tweetrecord[\"text\"],tweetrecord[\"source\"], tweetrecord[\"in_reply_to_user_id\"],tweetrecord[\"in_reply_to_screen_name\"], tweetrecord[\"in_reply_to_status_id\"],tweetrecord['retweet_count'],tweetrecord['contributors']))\n",
    "        datauser.append((tweetrecord[\"id\"], tweetrecord[\"screen_name \"],  tweetrecord[\"desription\"], tweetrecord[\"friends_count\"]))\n",
    "    except ValueError:\n",
    "        print(tweet)\n",
    "        errors.write(tweet)\n",
    "errors.close()\n",
    "\n",
    "#inserting values in to table\n",
    "c.executemany(\n",
    "'''INSERT INTO tweet (created_at, user_id, id_str, text, source, in_reply_to_user_id, in_reply_to_screen_name, \n",
    "    in_reply_to_status_id,retweet_count, contributors) VALUES (?,?,?,?,?,?,?,?,?,?)''', datatweet)\n",
    "c.executemany(\n",
    "'INSERT INTO User (id, screen_name, description, source, friends_count) VALUES (?,?,?,?,?)', datauser)\n",
    "c.executemany(\n",
    "'INSERT INTO GEO (id_str, type, longitude, source, longitude ) VALUES (?,?,?,?,?)',   datauser)\n",
    "\n",
    "print(\"Created table in tweetdata.db\")\n",
    "\n",
    "conn.commit()\n",
    "conn.close()\n",
    "\n",
    "\n",
    "start = time.time()\n",
    "\n",
    "for i in range(100000):\n",
    "    line = webFD.readline()\n",
    "\n",
    "tweetsdata= (Line.decode('utf8')).split('EndOfTweet')\n",
    "\n",
    "end = time.time()\n",
    "print ('difference is', (end-start), 'seconds')\n",
    "print ('perfomane:', 100000/(end-start), 'operation per second')\n",
    "For i in range(100000):\n",
    "    line = webFD.readline()\n",
    "    tweetsdata= (line.decode('utf8')).split('EndOfTweet')\n",
    "    fx.write(tweetsdata+'\\n'"
   ]
  },
  {
   "cell_type": "markdown",
   "metadata": {},
   "source": [
    " Write and execute SQL queries to do the following\n",
    " \n",
    "    i. Find tweets where tweet id_str contains “44” or “77” anywhere in the column\n",
    "        \n",
    "        Select id_str from tweet Where id_str = %44% or id_str = %77%\n",
    "\n",
    "    ii. Find how many unique values are there in the “in_reply_to_user_id” column\n",
    "        \n",
    "        Select count(distinct in_reply_to_user_id) as reply_count FROM tweet\n",
    "\n",
    "    iii. Find the average longitude and latitude value for each user name\n",
    "    \n",
    "        Select screen_name longitude latitude from user inner join Geo inner join user where user_id= id Order by text"
   ]
  }
 ],
 "metadata": {
  "kernelspec": {
   "display_name": "Python 3",
   "language": "python",
   "name": "python3"
  },
  "language_info": {
   "codemirror_mode": {
    "name": "ipython",
    "version": 3
   },
   "file_extension": ".py",
   "mimetype": "text/x-python",
   "name": "python",
   "nbconvert_exporter": "python",
   "pygments_lexer": "ipython3",
   "version": "3.6.5"
  }
 },
 "nbformat": 4,
 "nbformat_minor": 2
}
