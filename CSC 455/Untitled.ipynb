{
 "cells": [
  {
   "cell_type": "code",
   "execution_count": null,
   "metadata": {},
   "outputs": [],
   "source": [
    "import pandas as pd\n",
    "import config\n",
    "from tqdm import tqdm_notebook\n",
    "\n",
    "def sql_update(query):\n",
    "    cursor = config.cursor\n",
    "    # Execute Statment\n",
    "    query = (query)\n",
    "    try:\n",
    "        cursor.execute(query)\n",
    "    except Exception as ex:\n",
    "        if str(ex) == 'ORA-00955: name is already used by an existing object':\n",
    "            print ('Table Already Created...')\n",
    "            pass\n",
    "        else:\n",
    "            print (ex)\n",
    "            \n",
    "query = ['drop table Movie',\n",
    "         'drop table Reviewer',\n",
    "         'drop table Rating']\n",
    "for i in query:\n",
    "    sql_update(i)"
   ]
  },
  {
   "cell_type": "markdown",
   "metadata": {},
   "source": [
    "#### The Company has started a new movie-rating website and collected data on reviewers rating of different movies\n",
    "\n",
    "Movie (mID, title, year, director)\n",
    "\n",
    "Reviewer (rID, name)\n",
    "\n",
    "Rating (rID, mID, stars, ratingDate)\n",
    "\n",
    "The reviewer rID gave the movie mID a numver of stars rating (1-5) on a certain ratingDate"
   ]
  },
  {
   "cell_type": "code",
   "execution_count": null,
   "metadata": {},
   "outputs": [],
   "source": [
    "#create table Movie(mID int, title text, year int, director text);\n",
    "#create table Reviewer(rID int, name text);\n",
    "#create table Rating(rID int, mID int, stars int, ratingDate date);\n",
    "\n",
    "query = [\n",
    "         'create table Movie(mID int primary key, title varchar2(30), year date, director varchar2(30))',\n",
    "         'create table Reviewer(rID int primary key, name varchar2(30))',\n",
    "         'create table Rating(rID int, mID int, stars int, ratingDate date)'\n",
    "        ]\n",
    "for i in query:\n",
    "    try:\n",
    "        sql_update(i)\n",
    "    except:\n",
    "        print (i)"
   ]
  },
  {
   "cell_type": "code",
   "execution_count": null,
   "metadata": {},
   "outputs": [],
   "source": [
    "query = [\n",
    "\"insert into Movie values(101, 'Gone with the Wind', TO_DATE('1999','YYYY'), 'Victor Fleming')\",\n",
    "\"insert into Movie values(102, 'Star Wars', TO_DATE('1977','YYYY'), 'George Lucas')\",\n",
    "\"insert into Movie values(103, 'The Sound of Music', TO_DATE('1965','YYYY'), 'Robert Wise')\",\n",
    "\"insert into Movie values(104, 'E.T.', TO_DATE('1982','YYYY'), 'Steven Spielberg')\",\n",
    "\"insert into Movie values(105, 'Titanic', TO_DATE('1997','YYYY'), 'James Cameron')\",\n",
    "\"insert into Movie values(106, 'Snow White', TO_DATE('1937','YYYY'), null)\",\n",
    "\"insert into Movie values(107, 'Avatar', TO_DATE('2009','YYYY'), 'James Cameron')\",\n",
    "\"insert into Movie values(108, 'Raiders of the Lost Ark', TO_DATE('1981','YYYY'), 'Steven Spielberg')\",\n",
    "\"insert into Reviewer values(201, 'Sarah Martinez')\",\n",
    "\"insert into Reviewer values(202, 'Daniel Lewis')\",\n",
    "\"insert into Reviewer values(203, 'Brittany Harris')\",\n",
    "\"insert into Reviewer values(204, 'Mike Anderson')\",\n",
    "\"insert into Reviewer values(205, 'Chris Jackson')\",\n",
    "\"insert into Reviewer values(206, 'Elizabeth Thomas')\",\n",
    "\"insert into Reviewer values(207, 'James Cameron')\",\n",
    "\"insert into Reviewer values(208, 'Ashley White')\",\n",
    "\"insert into Rating values(201, 101, 2, TO_DATE('2011-01-22', 'YYYY-MM-DD'))\",\n",
    "\"insert into Rating values(201, 101, 4, TO_DATE('2011-01-27', 'YYYY-MM-DD'))\",\n",
    "\"insert into Rating values(202, 106, 4, null)\",\n",
    "\"insert into Rating values(203, 103, 2, TO_DATE('2011-01-20', 'YYYY-MM-DD'))\",\n",
    "\"insert into Rating values(203, 108, 4, TO_DATE('2011-01-12', 'YYYY-MM-DD'))\",\n",
    "\"insert into Rating values(203, 108, 2, TO_DATE('2011-01-30', 'YYYY-MM-DD'))\",\n",
    "\"insert into Rating values(204, 101, 3, TO_DATE('2011-01-09', 'YYYY-MM-DD'))\",\n",
    "\"insert into Rating values(205, 103, 3, TO_DATE('2011-01-27', 'YYYY-MM-DD'))\",\n",
    "\"insert into Rating values(205, 104, 2, TO_DATE('2011-01-22', 'YYYY-MM-DD'))\",\n",
    "\"insert into Rating values(205, 108, 4, null)\",\n",
    "\"insert into Rating values(206, 107, 3, TO_DATE('2011-01-15', 'YYYY-MM-DD'))\",\n",
    "\"insert into Rating values(206, 106, 5, TO_DATE('2011-01-19', 'YYYY-MM-DD'))\",\n",
    "\"insert into Rating values(207, 107, 5, TO_DATE('2011-01-22', 'YYYY-MM-DD'))\",\n",
    "\"insert into Rating values(208, 104, 3, TO_DATE('2011-01-02', 'YYYY-MM-DD'))\",\n",
    "]\n",
    "for i in query:\n",
    "    sql_update(i)"
   ]
  },
  {
   "cell_type": "markdown",
   "metadata": {},
   "source": [
    "Find the titles of all movies directed by Steven Spielberg."
   ]
  },
  {
   "cell_type": "code",
   "execution_count": null,
   "metadata": {},
   "outputs": [],
   "source": [
    "query = \"\"\" select * from Movie where director='Steven Spielberg' \"\"\"\n",
    "df = pd.read_sql(query, con=config.connection)\n",
    "df"
   ]
  },
  {
   "cell_type": "markdown",
   "metadata": {},
   "source": [
    "Find all years that have a movie that received a rating of 4 or 5, and sort them in increasing order"
   ]
  },
  {
   "cell_type": "code",
   "execution_count": null,
   "metadata": {},
   "outputs": [],
   "source": [
    "query = \"\"\" select * from Rating where stars between 4 and 5 and ratingdate is not null ORDER BY ratingdate\"\"\"\n",
    "df = pd.read_sql(query, con=config.connection)\n",
    "df"
   ]
  },
  {
   "cell_type": "markdown",
   "metadata": {},
   "source": [
    "Find the titles of all movies that have no ratings"
   ]
  },
  {
   "cell_type": "code",
   "execution_count": null,
   "metadata": {},
   "outputs": [],
   "source": [
    "query = \"\"\" select title from Movie where mID in (select mID from Movie where mID not in (select mID from Rating))\"\"\"\n",
    "df = pd.read_sql(query, con=config.connection)\n",
    "df"
   ]
  },
  {
   "cell_type": "markdown",
   "metadata": {},
   "source": [
    "Some reviewers didn't provide a date with their rating. Find the names of all reviewers who have ratings with a NULL value for the date"
   ]
  },
  {
   "cell_type": "code",
   "execution_count": null,
   "metadata": {},
   "outputs": [],
   "source": [
    "query = \"\"\" select name from Reviewer where rID in (select rID from Rating where ratingDate is null)\"\"\"\n",
    "df = pd.read_sql(query, con=config.connection)\n",
    "df"
   ]
  },
  {
   "cell_type": "code",
   "execution_count": null,
   "metadata": {},
   "outputs": [],
   "source": [
    "sql_reader = pd.read_sql(qry, con=config.connection, chunksize=10**4)\n",
    "\n",
    "for df in sql_reader:\n",
    "    print (df)"
   ]
  },
  {
   "cell_type": "code",
   "execution_count": null,
   "metadata": {},
   "outputs": [],
   "source": []
  }
 ],
 "metadata": {
  "kernelspec": {
   "display_name": "Python 3",
   "language": "python",
   "name": "python3"
  },
  "language_info": {
   "codemirror_mode": {
    "name": "ipython",
    "version": 3
   },
   "file_extension": ".py",
   "mimetype": "text/x-python",
   "name": "python",
   "nbconvert_exporter": "python",
   "pygments_lexer": "ipython3",
   "version": "3.6.5"
  }
 },
 "nbformat": 4,
 "nbformat_minor": 2
}
