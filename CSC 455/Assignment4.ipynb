{
 "cells": [
  {
   "cell_type": "markdown",
   "metadata": {},
   "source": [
    "Olusola Ogun\n",
    "\n",
    "Assignment #4\n",
    "\n",
    "# Section 1\n",
    "\n",
    "### Using the messaging.sql database (posted in with this assignment), write the following SQL queries. \n",
    "* Add yourself as a new record in the “person” table. Use your first name and last name for one of the new records that you are inserting.\n",
    "    * **INSERT INTO Person (person_id, first_name, last_name) VALUES (7, 'Olusola', 'Ogun');**\n",
    "* Alter the Person table by adding a new property of your choice with the data type of your choice.\n",
    "    * **ALTER TABLE Person ADD city VARCHAR(50) **\n",
    "* Update your record in the Person table by setting some value to your new property.\n",
    "    * ** UPDATE person SET city = 'Lisle' WHERE person_id = 7**\n",
    "* Delete the Diana Taurasi record\n",
    "    * **DELETE FROM person WHERE person_id = 6 **\n",
    "* Alter the Contact List table and add column for Favorite\n",
    "    * **ALTER TABLE contact_list ADD favourite VARCHAR(1) DEFAULT NULL**\n",
    "* Update the existing records in the “contact_list” table to use the new column that you created. Update the records in the table by setting Michael Phelps as everyone's favorite contact (contact_id = 1). The value for the “favorite” column should be set to “y” for these records.\n",
    "    * **UPDATE contact_list SET favourite = 'y' WHERE contact_id = 1**\n",
    "* Update the existing records in the “contact_list” table to use the new column that you created. Update the remaining record(s) in the table by setting every contact who is NOT Michael Phelps (contact_id <> 1) to not be a favorite. The value for the “favorite” column should be set to “n” for these records\n",
    "    * **UPDATE contact_list SET favourite = 'n' WHERE contact_id <> 1**\n",
    "* Insert at least 3 new records in the “contact_list” table. Note: You are required to add at least 3 new records with yourself as a new contact in the “contact_list” table. Make sure that you provide a value (y or n) for the new “favorite” column.\n",
    "    * **INSERT INTO contact_list (connection_id, person_id, contact_id) VALUES (15, 7, 1, 'y')**\n",
    "    * **INSERT INTO contact_list (connection_id, person_id, contact_id) VALUES (16, 7, 2, 'y')**\n",
    "    * **INSERT INTO contact_list (connection_id, person_id, contact_id) VALUES (17, 7, 3, 'n')**\n",
    "* Create a new table image with columns (image_id, image_name, image_location). Image_id is the primary key\n",
    "    * **CREATE TABLE IMAGE (image_id NUMBER NOT NULL, image_name VARCHAR(25) NOT NULL, image_location VARCHAR(100) NOT NULL, PRIMARY KEY (image_id))**\n",
    "* Create a message-image table with columns (image_id,message_id). Image_id and message_id are the primary keys\n",
    "    * **CREATE TABLE message - IMAGE (image_id NUMBER NOT NULL, message_id NUMBER NOT NULL, PRIMARY KEY (image_id, message_id), FOREIGN KEY (image_id) REFERENCES IMAGE (image_id))**\n",
    "* Insert 5 new records in the “image” table\n",
    "    * **INSERT INTO IMAGE (image_id, image_name, image_location) VALUES (1, 'img1', 'location1')**\n",
    "    * **INSERT INTO IMAGE (image_id, image_name, image_location) VALUES (2, 'img2', 'location2')**\n",
    "    * **INSERT INTO IMAGE (image_id, image_name, image_location) VALUES (3, 'img3', 'location3')**\n",
    "    * **INSERT INTO IMAGE (image_id, image_name, image_location) VALUES (4, 'img4', 'location4')**\n",
    "    * **INSERT INTO IMAGE (image_id, image_name, image_location) VALUES (5, 'img5', 'location5')**\n",
    "* Insert 5 new records in the “message-image” table\n",
    "    * **INSERT INTO message - IMAGE (image_id, message_id) VALUES (1, 1)**\n",
    "    * **INSERT INTO message - IMAGE (image_id, message_id)VALUES (2, 2)**\n",
    "    * **INSERT INTO message - IMAGE (image_id, message_id)VALUES (3, 3)**\n",
    "    * **INSERT INTO message - IMAGE (image_id, message_id)VALUES (4, 4)**\n",
    "    * **INSERT INTO message - IMAGE (image_id, message_id)VALUES (5, 5)**\n",
    "* Find All of the Messages that Michael Phelps Sent. Display the following columns\n",
    "    * **select message_id, sender_id, receiver_id , message, send_datetime from message where sender_id in (select person_id from person where first_name like 'Michael' and last_name like 'Phelps')**\n",
    "* Find the Number of Messages Sent for Every Person. Display the following columns\n",
    "    * **SELECT count(message.message_id), person.person_id, person.first_name, person.last_name FROM message INNER JOIN person ON message.reciever_id = person.person_id GROUP BY message.reciever_id**\n",
    "* Find All of the Messages that Have At Least One Image Attached Using INNER JOINs. Display the following columns\n",
    "    * **select message_id,image_name,image_location,message,send_datetime from image inner join message_image on image.image_id= message_image.image_id inner join message on message_image.message_id=message.message_id**"
   ]
  },
  {
   "cell_type": "markdown",
   "metadata": {},
   "source": [
    "# Section 2\n",
    "\n",
    "## Using the company.sql database (posted in with this assignment), write the following SQL queries\n",
    "\n",
    "* Find the names of all employees who are directly supervised by 'Franklin T Wong' \n",
    "    * **SELECT fname, lname FROM employee WHERE super_ssn = 333445555**\n",
    "* For each project, list the project name, project number, and the total hours per week (by all employees) spent on that project\n",
    "    * **SELECT Pname, SUM(Hours) FROM PROJECT, WORKS_ON WHERE PROJECT.Pnumber=WORKS_ON.Pno GROUP BY PROJECT.Pnumber**\n",
    "* For each department, retrieve the department name and the average salary of all employees working in that department.  Order the output by department number in ascending order\n",
    "    * ** SELECT Dname, AVG (Salary) FROM EMPLOYEE,DEPARTMENT WHERE Dno=Dnumber GROUP BY Dname ORDER BY DEPARTMENT**\n",
    "* Retrieve the average salary of all female employees\n",
    "    * **SELECT AVG (Salary) FROM EMPLOYEE WHERE Sex='F'**\n",
    "* For each department whose average salary is greater than 44,000, retrieve the department name and the number of employees in that department\n",
    "    * **SELECT DNAME, EMPLOYEECOUNT FROM DEPARTMENT D, (SELECT DNO, COUNT(SSN) AS EMPLOYEECOUNT FROM EMPLOYEE GROUPBY DNO HAVING AVG(SALARY) > 44000) E WHERE D.DNUMBER = E.DNO **\n",
    "* Retrieve the names of employees whose salary is within 23,000 of the salary of the employee who is paid the most in the company (e.g., if the highest salary in the company is $83,000, retrieve the names of all employees that make at least 60,000.)\n",
    "    * ** SELECT FNAME, MINIT, LNAME, FROM EMPLOYEE, WHERE SALARY > (SELECT MAX(SALARY) - 23000 FROM EMPLOYEE) AND SSN != (SELECT SSN FROM EMPLOYEE WHERE SALARY = (SELECT MAX(SALARY) FROM EMPLOYEE))**"
   ]
  },
  {
   "cell_type": "code",
   "execution_count": null,
   "metadata": {},
   "outputs": [],
   "source": [
    ","
   ]
  }
 ],
 "metadata": {
  "kernelspec": {
   "display_name": "Python 3",
   "language": "python",
   "name": "python3"
  },
  "language_info": {
   "codemirror_mode": {
    "name": "ipython",
    "version": 3
   },
   "file_extension": ".py",
   "mimetype": "text/x-python",
   "name": "python",
   "nbconvert_exporter": "python",
   "pygments_lexer": "ipython3",
   "version": "3.6.5"
  }
 },
 "nbformat": 4,
 "nbformat_minor": 2
}
