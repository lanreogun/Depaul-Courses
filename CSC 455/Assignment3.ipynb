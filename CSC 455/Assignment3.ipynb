{
 "cells": [
  {
   "cell_type": "code",
   "execution_count": 1,
   "metadata": {},
   "outputs": [],
   "source": [
    "import pandas as pd\n",
    "import config\n",
    "\n",
    "def sql_update(query):\n",
    "    # Execute Statment\n",
    "    query = (query)\n",
    "    try:\n",
    "        config.cursor.execute(query)\n",
    "    except Exception as ex:\n",
    "        if str(ex) == 'ORA-00955: name is already used by an existing object':\n",
    "            print ('Table previousl created')\n",
    "        else:\n",
    "            print (ex)\n",
    "    #Create and save to query to SQL file\n",
    "    #f = open(\"{}\".format(filename), \"a+\")\n",
    "    #f.write(query + ';')\n",
    "    #f.close()"
   ]
  },
  {
   "cell_type": "markdown",
   "metadata": {},
   "source": [
    "#### Part 1"
   ]
  },
  {
   "cell_type": "code",
   "execution_count": 2,
   "metadata": {},
   "outputs": [
    {
     "name": "stdout",
     "output_type": "stream",
     "text": [
      "Table previousl created\n",
      "Table previousl created\n",
      "Table previousl created\n"
     ]
    }
   ],
   "source": [
    "# Create Tables needed for the assignment\n",
    "query = [\n",
    "         'create table park_grades(grade_id int primary key, grade_name varchar2(10), min_price varchar2(30), max_price varchar2(30))',\n",
    "         'create table packages(pack_id int primary key, speed int, strt_date date, monthly_payment int, sector_id int)',\n",
    "         'create table sectors(sector_id int primary key, sector_name varchar2(10))'\n",
    "        ]\n",
    "for i in query:\n",
    "    sql_update(i)"
   ]
  },
  {
   "cell_type": "code",
   "execution_count": null,
   "metadata": {},
   "outputs": [],
   "source": []
  }
 ],
 "metadata": {
  "kernelspec": {
   "display_name": "Python 3",
   "language": "python",
   "name": "python3"
  },
  "language_info": {
   "codemirror_mode": {
    "name": "ipython",
    "version": 3
   },
   "file_extension": ".py",
   "mimetype": "text/x-python",
   "name": "python",
   "nbconvert_exporter": "python",
   "pygments_lexer": "ipython3",
   "version": "3.6.5"
  }
 },
 "nbformat": 4,
 "nbformat_minor": 2
}
