{
 "cells": [
  {
   "cell_type": "markdown",
   "metadata": {},
   "source": [
    "Olusola Ogun\n",
    "\n",
    "CSS 455\n",
    "\n",
    "Assignment #3"
   ]
  },
  {
   "cell_type": "code",
   "execution_count": 1,
   "metadata": {},
   "outputs": [],
   "source": [
    "import pandas as pd\n",
    "import config\n",
    "\n",
    "def sql_update(query):\n",
    "    # Execute Statment\n",
    "    query = (query)\n",
    "    try:\n",
    "        config.cursor.execute(query)\n",
    "    except Exception as ex:\n",
    "        if str(ex) == 'ORA-00955: name is already used by an existing object':\n",
    "            print ('Table previously created')\n",
    "        else:\n",
    "            print (ex)\n",
    "    #Create and save to query to SQL file\n",
    "    #f = open(\"{}\".format(filename), \"a+\")\n",
    "    #f.write(query + ';')\n",
    "    #f.close()"
   ]
  },
  {
   "cell_type": "markdown",
   "metadata": {},
   "source": [
    "#### Part 1"
   ]
  },
  {
   "cell_type": "code",
   "execution_count": 2,
   "metadata": {},
   "outputs": [
    {
     "name": "stdout",
     "output_type": "stream",
     "text": [
      "Table previousl created\n",
      "Table previousl created\n",
      "Table previousl created\n",
      "Table previousl created\n"
     ]
    }
   ],
   "source": [
    "# Create Tables needed for the assignment, for personal reference only\n",
    "query = [\n",
    "         'create table park_grades(grade_id int primary key, grade_name varchar2(10), min_price varchar2(30), max_price varchar2(30))',\n",
    "         'create table packages(pack_id int primary key, speed int, strt_date date, monthly_payment int, sector_id int)',\n",
    "         'create table sectors(sector_id int primary key, sector_name varchar2(10))',\n",
    "         'create table customers(customer_id int primary key, first_name varchar2(20), last_name varchar2(20), birth_date date, join_date date, city varchar2(30), state varchar2(30), \\\n",
    "          street varchar2(30), main_phone_num int, secondary_phone_num int, fax int, monthly_discount int, pack_id int)' \n",
    "        ]\n",
    "for i in query:\n",
    "    sql_update(i)"
   ]
  },
  {
   "cell_type": "markdown",
   "metadata": {},
   "source": [
    "1. Cities and the average monthly discount (Customers table) –\n",
    " - Display the city and the average monthly discount for each city\n",
    "     - **SELECT AVG(monthly_payment) , city FROM customers GROUP BY city**\n",
    " - Display the city and the average monthly discount for each city, only for the customers whose monthly discount is greater than 20 \n",
    "     - **SELECT MIN(monthly_discount) , city FROM customers GROUP BY city HAVING min(monthly_discount) > 20**\n",
    "2. States and the lowest monthly discount (Customers table)\n",
    " - Display the state and the lowest monthly discount for each state\n",
    "     - **SELECT MIN(monthly_discount) , state FROM customers GROUP BY state**\n",
    " - Display the state and lowest monthly discount for each state, only for states where the lowest monthly discount is greater than 10\n",
    "     - **SELECT MIN(monthly_discount) , state FROM customers GROUP BY state HAVING min(monthly_discount) > 10**\n",
    "3. The number of customer in each internet package (Customers table)\n",
    " - Display the package number and the number of customers for each package number.\n",
    "     - **SELECT COUNT(DISTINCT speed) FROM packages** \n",
    " - Modify the query to display the package number and number of customers for each package number, only for the customers whose monthly discount is greater than 2\n",
    "     - **"
   ]
  },
  {
   "cell_type": "code",
   "execution_count": null,
   "metadata": {},
   "outputs": [],
   "source": []
  }
 ],
 "metadata": {
  "kernelspec": {
   "display_name": "Python 3",
   "language": "python",
   "name": "python3"
  },
  "language_info": {
   "codemirror_mode": {
    "name": "ipython",
    "version": 3
   },
   "file_extension": ".py",
   "mimetype": "text/x-python",
   "name": "python",
   "nbconvert_exporter": "python",
   "pygments_lexer": "ipython3",
   "version": "3.6.5"
  }
 },
 "nbformat": 4,
 "nbformat_minor": 2
}
