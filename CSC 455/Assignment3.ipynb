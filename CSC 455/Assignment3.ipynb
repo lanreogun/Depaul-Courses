{
 "cells": [
  {
   "cell_type": "code",
   "execution_count": 1,
   "metadata": {},
   "outputs": [],
   "source": [
    "import pandas as pd\n",
    "import config"
   ]
  },
  {
   "cell_type": "markdown",
   "metadata": {},
   "source": [
    "#### Part 1"
   ]
  },
  {
   "cell_type": "code",
   "execution_count": 2,
   "metadata": {},
   "outputs": [
    {
     "name": "stdout",
     "output_type": "stream",
     "text": [
      "create table park_grades(grade_id int primary key, grade_name varchar2(10), min_price varchar2(30), max_price varchar2(30))\n",
      "create table packages(pack_id int primary key, speed int, strt_date date, monthly_payment, sector_id int)\n",
      "create table sectors(sector_id int primary key, sector name varchar2(10))\n"
     ]
    }
   ],
   "source": [
    "# Create Tables needed for the assignment\n",
    "query = [\n",
    "         'create table park_grades(grade_id int primary key, grade_name varchar2(10), min_price varchar2(30), max_price varchar2(30))',\n",
    "         'create table packages(pack_id int primary key, speed int, strt_date date, monthly_payment, sector_id int)',\n",
    "         'create table sectors(sector_id int primary key, sector name varchar2(10))'\n",
    "        ]\n",
    "for i in query:\n",
    "    print (i)"
   ]
  },
  {
   "cell_type": "code",
   "execution_count": null,
   "metadata": {},
   "outputs": [],
   "source": []
  }
 ],
 "metadata": {
  "kernelspec": {
   "display_name": "Python 3",
   "language": "python",
   "name": "python3"
  },
  "language_info": {
   "codemirror_mode": {
    "name": "ipython",
    "version": 3
   },
   "file_extension": ".py",
   "mimetype": "text/x-python",
   "name": "python",
   "nbconvert_exporter": "python",
   "pygments_lexer": "ipython3",
   "version": "3.6.5"
  }
 },
 "nbformat": 4,
 "nbformat_minor": 2
}
