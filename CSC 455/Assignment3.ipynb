{
 "cells": [
  {
   "cell_type": "markdown",
   "metadata": {},
   "source": [
    "Olusola Ogun\n",
    "\n",
    "CSS 455\n",
    "\n",
    "Assignment #3"
   ]
  },
  {
   "cell_type": "code",
   "execution_count": 1,
   "metadata": {},
   "outputs": [],
   "source": [
    "import pandas as pd\n",
    "import config\n",
    "\n",
    "def sql_update(query):\n",
    "    # Execute Statment\n",
    "    query = (query)\n",
    "    try:\n",
    "        config.cursor.execute(query)\n",
    "    except Exception as ex:\n",
    "        if str(ex) == 'ORA-00955: name is already used by an existing object':\n",
    "            print ('Table previously created')\n",
    "        else:\n",
    "            print (ex)\n",
    "    #Create and save to query to SQL file\n",
    "    #f = open(\"{}\".format(filename), \"a+\")\n",
    "    #f.write(query + ';')\n",
    "    #f.close()"
   ]
  },
  {
   "cell_type": "code",
   "execution_count": 2,
   "metadata": {},
   "outputs": [
    {
     "name": "stdout",
     "output_type": "stream",
     "text": [
      "Table previousl created\n",
      "Table previousl created\n",
      "Table previousl created\n",
      "Table previousl created\n"
     ]
    }
   ],
   "source": [
    "# Create Tables needed for the assignment, for personal reference only\n",
    "query = [\n",
    "         'create table park_grades(grade_id int primary key, grade_name varchar2(10), min_price varchar2(30), max_price varchar2(30))',\n",
    "         'create table packages(pack_id int primary key, speed int, strt_date date, monthly_payment int, sector_id int)',\n",
    "         'create table sectors(sector_id int primary key, sector_name varchar2(10))',\n",
    "         'create table customers(customer_id int primary key, first_name varchar2(20), last_name varchar2(20), birth_date date, join_date date, city varchar2(30), state varchar2(30), \\\n",
    "          street varchar2(30), main_phone_num int, secondary_phone_num int, fax int, monthly_discount int, pack_id int)' \n",
    "        ]\n",
    "for i in query:\n",
    "    sql_update(i)"
   ]
  },
  {
   "cell_type": "markdown",
   "metadata": {},
   "source": [
    "#### Part 1\n",
    "1. Cities and the average monthly discount (Customers table) –\n",
    " - Display the city and the average monthly discount for each city\n",
    "     - **SELECT AVG(monthly_payment) , city FROM customers GROUP BY city**\n",
    " - Display the city and the average monthly discount for each city, only for the customers whose monthly discount is greater than 20 \n",
    "     - **SELECT MIN(monthly_discount) , city FROM customers GROUP BY city HAVING min(monthly_discount) > 20**\n",
    "2. States and the lowest monthly discount (Customers table)\n",
    " - Display the state and the lowest monthly discount for each state\n",
    "     - **SELECT MIN(monthly_discount) , state FROM customers GROUP BY state**\n",
    " - Display the state and lowest monthly discount for each state, only for states where the lowest monthly discount is greater than 10\n",
    "     - **SELECT MIN(monthly_discount) , state FROM customers GROUP BY state HAVING min(monthly_discount) > 10**\n",
    "3. The number of customer in each internet package (Customers table)\n",
    " - Display the package number and the number of customers for each package number.\n",
    "     - **SELECT COUNT(DISTINCT speed) FROM packages** \n",
    " - Modify the query to display the package number and number of customers for each package number, only for the customers whose monthly discount is greater than 20\n",
    "     - **SELECT pack_id , COUNT(*) FROM customers WHERE monthly_discount > 20 GROUP BY pack_id**\n",
    " - Modify the query to display the package number and number of customers for each package number, only for the packages with more than 100 customers\n",
    "     - **SELECT pack_id , COUNT(*) FROM customers GROUP BY pack_id HAVING COUNT(*) > 100**\n",
    "4. Customers and internet packages (Customers & Packages tables)\n",
    " - Write a query to display first name, last name, package number and internet speed for all customer\n",
    "     - **SELECT cust.last_name , cust.first_name , cust.pack_id , pack.speed FROM customers cust JOIN packages pack ON cust.pack_id = pack.pack_id **\n",
    " - Write a query to display first name, last name, package number and internet speed for all customers whose package number equals 22 or 27. Order the query in ascending order by last name\n",
    "     - **SELECT cust.last_name , cust.first_name , cust.pack_id , pack.speed FROM customers cust JOIN packages pack ON cust.pack_id = pack.pack_id WHERE cust.pack_id IN (27, 22) ORDER BY\n",
    "     cust.last_name**\n",
    "5. Internet packages and sectors\n",
    " - Display the package number, internet speed, monthly payment and sector name for all packages (Packages and Sectors tables)\n",
    "     - **SELECT pack.pack_id , pack.speed, pack.monthly_payment, sect.sector_name FROM packages pack JOIN sectors sect ON pack.sector_id = sect.sector_id **\n",
    " - Display the customer name, package number, internet speed, monthly payment and sector name for all customers in the business sector (Customers, Packages and Sectorstables)\n",
    "     - **SELECT cust.last_name , cust.first_name , pack.pack_id , pack.speed, pack.monthly_payment, sect.sector_name FROM packages pack JOIN sectors sect ON pack.sector_id = sect.sector_id\n",
    "     JOIN customers cust ON cust.pack_id = pack.pack_id WHERE sect.sector_name = 'Business'**\n",
    "6. Customers and internet packages (Customers and Packages tables)\n",
    " - Display the first name, last name, internet speed and monthly payment for all customers. Use INNER JOIN to solve this exercise\n",
    "     - **SELECT cust.last_name , cust.first_name ,  pack.speed , pack.monthly_payment FROM customers cust JOIN packages pack ON cust.pack_id = pack.pack_id**\n",
    " - Modify last query to display all customers, including those without any internet package\n",
    "    - **SELECT cust.last_name , cust.first_name ,  pack.speed , pack.monthly_payment FROM customers cust LEFT OUTER JOIN packages pack ON cust.pack_id = pack.pack_id**\n",
    " - Modify last query to display all packages, including those without any customers\n",
    "    - **SELECT cust.last_name , cust.first_name ,  pack.speed , pack.monthly_payment FROM customers cust RIGHT OUTER JOIN packages pack ON cust.pack_id = pack.pack_id**\n",
    " - Modify last query to display all packages and all customers\n",
    "    - **SELECT cust.last_name , cust.first_name ,  pack.speed , pack.monthly_payment FROM customers cust FULL OUTER JOIN packages pack ON cust.pack_id = pack.pack_id** \n",
    "     "
   ]
  },
  {
   "cell_type": "markdown",
   "metadata": {},
   "source": [
    "#### Part 2\n",
    "\n",
    "1. Create the Person table.  Person(person_id,first_name,last_name) Primary Key: person_id; All the other fields are required\n",
    "    - **CREATE TABLE Persons (person_id int NOT NULL,first_name varchar(255) NOT NULL,last_name varchar(255),PRIMARY KEY (person_id))**\n",
    "2. Create the Building table. Building (building_id,building_name) Primary Key: building_id; All the other fields are required\n",
    "    - **CREATE TABLE Building (building_id int NOT NULL,building_name varchar(255) NOT NULL,PRIMARY KEY (building_id))**\n",
    "3. Create the Room table. Room(room_id, room_number, building_id, capacity) Primary Key: room_id; All the other fields are required\n",
    "    - **CREATE TABLE Room (room_id int NOT NULL,room_number varchar(255) NOT NULL,building_id varchar(255) NOT NULL,capacity int NOT NULL,PRIMARY KEY (room_id),FOREIGN KEY (building_id) REFERENCES Building(building_id))**\n",
    "4. Create the Meeting table. Meeting (meeting_id,room_id,meeting_start,meeting_end) Primary Key: meeting_id; ; All the other fields are required\n",
    "    - **CREATE TABLE Meeting (meeting_id int NOT NULL,room_id int NOT NULL,meeting_start varchar(255) NOT NULL,meeting_end varchar(255) NOT NULL,PRIMARY KEY (meeting_id),FOREIGN KEY (room_id) REFERENCES Room(room_id))**\n",
    "5. Create the Person-Meeting intersection table. Person_meeting(person_id,meeting_id) Primary Key: person_id, meeting_id\n",
    "    - **CREATE TABLE PersonMeeting (person_id int NOT NULL,meeting_id int NOT NULL,FOREIGN KEY (person_id) REFERENCES Persons(person_id),FOREIGN KEY (meeting_id) REFERENCES meeting(person_id))**\n",
    "6. Insert the below data in the Person table (Tom, Hanks) (Anne, Hathaway) (Tom, Cruise) (Meryl, Streep) (Chris, Pratt) (Halle, Berry) (Robert, De Niro) (Julia, Roberts) (Denzel, \"Washington) (Melissa, McCarthy)\n",
    "7. Insert the below data in the Building table (Headquarters) (Main Street Building)\n",
    "8. Insert the below data in the Room table (room_number, building_id, capacity) (100, 1, 5) (200, 1, 4) (300, 1, 10) (10, 2, 4) (20, 2, 4)\n",
    "9. Insert the below data in meeting table meeting (room_id, meeting_start, meeting_end) (1, 2016-12-25 09:00:00, 2016-12-25 10:00:00) (1, 2016-12-25 10:00:00, 2016-12-25 12:00:00) (1, 2016-12-25 11:00:00, 2016-12-25 12:00:00) (2, 2016-12-25 09:00:00, 2016-12-25 10:00:00)(4, 2016-12-25 09:00:00, 2016-12-25 10:00:00)(5, 2016-12-25 14:00:00, 2016-12-25 16:00:00)\n"
   ]
  },
  {
   "cell_type": "code",
   "execution_count": null,
   "metadata": {},
   "outputs": [],
   "source": [
    "#http://ramkedem.com/en/practice-sql-aggregate-functions/"
   ]
  }
 ],
 "metadata": {
  "kernelspec": {
   "display_name": "Python 3",
   "language": "python",
   "name": "python3"
  },
  "language_info": {
   "codemirror_mode": {
    "name": "ipython",
    "version": 3
   },
   "file_extension": ".py",
   "mimetype": "text/x-python",
   "name": "python",
   "nbconvert_exporter": "python",
   "pygments_lexer": "ipython3",
   "version": "3.6.5"
  }
 },
 "nbformat": 4,
 "nbformat_minor": 2
}
